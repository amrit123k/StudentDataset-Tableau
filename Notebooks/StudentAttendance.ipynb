{
 "cells": [
  {
   "cell_type": "markdown",
   "id": "5b0ceb69-2cb6-468a-83ab-4761c393b70e",
   "metadata": {},
   "source": [
    "## Work Plan\n",
    "1. Load CSV files and perform data wrangling/EDA to clean data\n",
    "2. Draw inferences and based off that plan what will be presented in Tableau\n",
    "3. Transform the cleaned dataframe into a CSV file for Tableau use\n",
    "4. Create Tableau Dashboard showing clear visualization of the data "
   ]
  },
  {
   "cell_type": "code",
   "execution_count": 1,
   "id": "f6c29211-50b3-43af-891f-5c7cd53239cc",
   "metadata": {},
   "outputs": [],
   "source": [
    "import pandas as pd\n",
    "import numpy as np"
   ]
  },
  {
   "cell_type": "code",
   "execution_count": 2,
   "id": "590adc8a-f492-4aec-b108-f6ec30b4de89",
   "metadata": {},
   "outputs": [],
   "source": [
    "df_attendance = pd.read_csv('attendance.csv')\n",
    "df_homework = pd.read_csv('homework.csv')\n",
    "df_performance = pd.read_csv('performance.csv')\n",
    "df_students = pd.read_csv('students.csv')\n",
    "df_communication = pd.read_csv('teacher_parent_communication.csv')"
   ]
  },
  {
   "cell_type": "code",
   "execution_count": 3,
   "id": "684b8523-241f-45f2-94b3-2e12468ea9d7",
   "metadata": {},
   "outputs": [
    {
     "name": "stdout",
     "output_type": "stream",
     "text": [
      "<class 'pandas.core.frame.DataFrame'>\n",
      "RangeIndex: 364680 entries, 0 to 364679\n",
      "Data columns (total 4 columns):\n",
      " #   Column             Non-Null Count   Dtype \n",
      "---  ------             --------------   ----- \n",
      " 0   Student_ID         364680 non-null  object\n",
      " 1   Date               364680 non-null  object\n",
      " 2   Subject            364680 non-null  object\n",
      " 3   Attendance_Status  364680 non-null  object\n",
      "dtypes: object(4)\n",
      "memory usage: 11.1+ MB\n",
      "None\n",
      "\n",
      "<class 'pandas.core.frame.DataFrame'>\n",
      "RangeIndex: 60780 entries, 0 to 60779\n",
      "Data columns (total 7 columns):\n",
      " #   Column              Non-Null Count  Dtype \n",
      "---  ------              --------------  ----- \n",
      " 0   Student_ID          60780 non-null  object\n",
      " 1   Subject             60780 non-null  object\n",
      " 2   Assignment_Name     60780 non-null  object\n",
      " 3   Due_Date            60780 non-null  object\n",
      " 4   Status              60780 non-null  object\n",
      " 5   Grade_Feedback      60780 non-null  object\n",
      " 6   Guardian_Signature  60780 non-null  object\n",
      "dtypes: object(7)\n",
      "memory usage: 3.2+ MB\n",
      "None\n",
      "\n",
      "<class 'pandas.core.frame.DataFrame'>\n",
      "RangeIndex: 36468 entries, 0 to 36467\n",
      "Data columns (total 5 columns):\n",
      " #   Column                 Non-Null Count  Dtype \n",
      "---  ------                 --------------  ----- \n",
      " 0   Student_ID             36468 non-null  object\n",
      " 1   Subject                36468 non-null  object\n",
      " 2   Exam_Score             36468 non-null  int64 \n",
      " 3   Homework_Completion_%  36468 non-null  object\n",
      " 4   Teacher_Comments       36468 non-null  object\n",
      "dtypes: int64(1), object(4)\n",
      "memory usage: 1.4+ MB\n",
      "None\n",
      "\n",
      "<class 'pandas.core.frame.DataFrame'>\n",
      "RangeIndex: 12156 entries, 0 to 12155\n",
      "Data columns (total 5 columns):\n",
      " #   Column             Non-Null Count  Dtype \n",
      "---  ------             --------------  ----- \n",
      " 0   Student_ID         12156 non-null  object\n",
      " 1   Full_Name          12156 non-null  object\n",
      " 2   Date_of_Birth      12156 non-null  object\n",
      " 3   Grade_Level        12156 non-null  object\n",
      " 4   Emergency_Contact  11538 non-null  object\n",
      "dtypes: object(5)\n",
      "memory usage: 475.0+ KB\n",
      "None\n",
      "\n",
      "<class 'pandas.core.frame.DataFrame'>\n",
      "RangeIndex: 24312 entries, 0 to 24311\n",
      "Data columns (total 4 columns):\n",
      " #   Column           Non-Null Count  Dtype \n",
      "---  ------           --------------  ----- \n",
      " 0   Student_ID       24312 non-null  object\n",
      " 1   Date             24312 non-null  object\n",
      " 2   Message_Type     24312 non-null  object\n",
      " 3   Message_Content  24312 non-null  object\n",
      "dtypes: object(4)\n",
      "memory usage: 759.9+ KB\n",
      "None\n"
     ]
    }
   ],
   "source": [
    "print(df_attendance.info())\n",
    "print()\n",
    "print(df_homework.info())\n",
    "print()\n",
    "print(df_performance.info())\n",
    "print()\n",
    "print(df_students.info())\n",
    "print()\n",
    "print(df_communication.info())"
   ]
  },
  {
   "cell_type": "markdown",
   "id": "9805c859-511c-4c4d-ab53-a4098b19ecca",
   "metadata": {},
   "source": [
    "## Attendance"
   ]
  },
  {
   "cell_type": "code",
   "execution_count": 4,
   "id": "9ddead9f-f12d-4687-8296-9ed3e2b5a31c",
   "metadata": {},
   "outputs": [
    {
     "data": {
      "text/html": [
       "<div>\n",
       "<style scoped>\n",
       "    .dataframe tbody tr th:only-of-type {\n",
       "        vertical-align: middle;\n",
       "    }\n",
       "\n",
       "    .dataframe tbody tr th {\n",
       "        vertical-align: top;\n",
       "    }\n",
       "\n",
       "    .dataframe thead th {\n",
       "        text-align: right;\n",
       "    }\n",
       "</style>\n",
       "<table border=\"1\" class=\"dataframe\">\n",
       "  <thead>\n",
       "    <tr style=\"text-align: right;\">\n",
       "      <th></th>\n",
       "      <th>Student_ID</th>\n",
       "      <th>Date</th>\n",
       "      <th>Subject</th>\n",
       "      <th>Attendance_Status</th>\n",
       "    </tr>\n",
       "  </thead>\n",
       "  <tbody>\n",
       "    <tr>\n",
       "      <th>0</th>\n",
       "      <td>S06592</td>\n",
       "      <td>2024-09-20</td>\n",
       "      <td>Arabic</td>\n",
       "      <td>Present</td>\n",
       "    </tr>\n",
       "    <tr>\n",
       "      <th>1</th>\n",
       "      <td>S01777</td>\n",
       "      <td>2025-01-22</td>\n",
       "      <td>Math</td>\n",
       "      <td>Present</td>\n",
       "    </tr>\n",
       "    <tr>\n",
       "      <th>2</th>\n",
       "      <td>S07362</td>\n",
       "      <td>2024-12-03</td>\n",
       "      <td>Geography</td>\n",
       "      <td>PRESENT</td>\n",
       "    </tr>\n",
       "    <tr>\n",
       "      <th>3</th>\n",
       "      <td>S12119</td>\n",
       "      <td>2024-03-16</td>\n",
       "      <td>Geography</td>\n",
       "      <td>excused</td>\n",
       "    </tr>\n",
       "    <tr>\n",
       "      <th>4</th>\n",
       "      <td>S02002</td>\n",
       "      <td>2024-05-24</td>\n",
       "      <td>Math</td>\n",
       "      <td>PRESENT</td>\n",
       "    </tr>\n",
       "  </tbody>\n",
       "</table>\n",
       "</div>"
      ],
      "text/plain": [
       "  Student_ID        Date    Subject Attendance_Status\n",
       "0     S06592  2024-09-20     Arabic           Present\n",
       "1     S01777  2025-01-22       Math           Present\n",
       "2     S07362  2024-12-03  Geography          PRESENT \n",
       "3     S12119  2024-03-16  Geography           excused\n",
       "4     S02002  2024-05-24       Math          PRESENT "
      ]
     },
     "execution_count": 4,
     "metadata": {},
     "output_type": "execute_result"
    }
   ],
   "source": [
    "df_attendance.head()"
   ]
  },
  {
   "cell_type": "markdown",
   "id": "be4b58f2-ce40-4a69-8e71-9b5e13c892ea",
   "metadata": {},
   "source": [
    "## Homework"
   ]
  },
  {
   "cell_type": "code",
   "execution_count": 5,
   "id": "74c8387d-7e3c-4a18-9fe4-06cc4555fe26",
   "metadata": {},
   "outputs": [
    {
     "data": {
      "text/html": [
       "<div>\n",
       "<style scoped>\n",
       "    .dataframe tbody tr th:only-of-type {\n",
       "        vertical-align: middle;\n",
       "    }\n",
       "\n",
       "    .dataframe tbody tr th {\n",
       "        vertical-align: top;\n",
       "    }\n",
       "\n",
       "    .dataframe thead th {\n",
       "        text-align: right;\n",
       "    }\n",
       "</style>\n",
       "<table border=\"1\" class=\"dataframe\">\n",
       "  <thead>\n",
       "    <tr style=\"text-align: right;\">\n",
       "      <th></th>\n",
       "      <th>Student_ID</th>\n",
       "      <th>Subject</th>\n",
       "      <th>Assignment_Name</th>\n",
       "      <th>Due_Date</th>\n",
       "      <th>Status</th>\n",
       "      <th>Grade_Feedback</th>\n",
       "      <th>Guardian_Signature</th>\n",
       "    </tr>\n",
       "  </thead>\n",
       "  <tbody>\n",
       "    <tr>\n",
       "      <th>0</th>\n",
       "      <td>S12002</td>\n",
       "      <td>Science</td>\n",
       "      <td>Record.</td>\n",
       "      <td>2024-09-10</td>\n",
       "      <td>❌</td>\n",
       "      <td>C-</td>\n",
       "      <td>Yes</td>\n",
       "    </tr>\n",
       "    <tr>\n",
       "      <th>1</th>\n",
       "      <td>S01255</td>\n",
       "      <td>History</td>\n",
       "      <td>Head baby.</td>\n",
       "      <td>2024-10-16</td>\n",
       "      <td>❌</td>\n",
       "      <td>A+</td>\n",
       "      <td>No</td>\n",
       "    </tr>\n",
       "    <tr>\n",
       "      <th>2</th>\n",
       "      <td>S04968</td>\n",
       "      <td>Arabic</td>\n",
       "      <td>Keep audience medical free.</td>\n",
       "      <td>2025-02-11</td>\n",
       "      <td>Done</td>\n",
       "      <td>A+</td>\n",
       "      <td>Yes</td>\n",
       "    </tr>\n",
       "    <tr>\n",
       "      <th>3</th>\n",
       "      <td>S07925</td>\n",
       "      <td>Geography</td>\n",
       "      <td>Three half peace.</td>\n",
       "      <td>2024-10-03</td>\n",
       "      <td>Done</td>\n",
       "      <td>A+</td>\n",
       "      <td></td>\n",
       "    </tr>\n",
       "    <tr>\n",
       "      <th>4</th>\n",
       "      <td>S09980</td>\n",
       "      <td>Geography</td>\n",
       "      <td>Assume particularly.</td>\n",
       "      <td>2024-12-01</td>\n",
       "      <td>✅</td>\n",
       "      <td>B-</td>\n",
       "      <td>No</td>\n",
       "    </tr>\n",
       "  </tbody>\n",
       "</table>\n",
       "</div>"
      ],
      "text/plain": [
       "  Student_ID    Subject              Assignment_Name    Due_Date  Status  \\\n",
       "0     S12002    Science                      Record.  2024-09-10       ❌   \n",
       "1     S01255    History                   Head baby.  2024-10-16       ❌   \n",
       "2     S04968     Arabic  Keep audience medical free.  2025-02-11   Done    \n",
       "3     S07925  Geography            Three half peace.  2024-10-03   Done    \n",
       "4     S09980  Geography         Assume particularly.  2024-12-01       ✅   \n",
       "\n",
       "  Grade_Feedback Guardian_Signature  \n",
       "0             C-                Yes  \n",
       "1             A+                 No  \n",
       "2             A+                Yes  \n",
       "3             A+                     \n",
       "4             B-                 No  "
      ]
     },
     "execution_count": 5,
     "metadata": {},
     "output_type": "execute_result"
    }
   ],
   "source": [
    "df_homework.head()"
   ]
  },
  {
   "cell_type": "markdown",
   "id": "100c843d-9f46-4da8-b5fe-8fb860effe6f",
   "metadata": {},
   "source": [
    "## Performance"
   ]
  },
  {
   "cell_type": "code",
   "execution_count": 6,
   "id": "d4557bbc-812a-427f-acbc-45cab71936b8",
   "metadata": {},
   "outputs": [
    {
     "data": {
      "text/html": [
       "<div>\n",
       "<style scoped>\n",
       "    .dataframe tbody tr th:only-of-type {\n",
       "        vertical-align: middle;\n",
       "    }\n",
       "\n",
       "    .dataframe tbody tr th {\n",
       "        vertical-align: top;\n",
       "    }\n",
       "\n",
       "    .dataframe thead th {\n",
       "        text-align: right;\n",
       "    }\n",
       "</style>\n",
       "<table border=\"1\" class=\"dataframe\">\n",
       "  <thead>\n",
       "    <tr style=\"text-align: right;\">\n",
       "      <th></th>\n",
       "      <th>Student_ID</th>\n",
       "      <th>Subject</th>\n",
       "      <th>Exam_Score</th>\n",
       "      <th>Homework_Completion_%</th>\n",
       "      <th>Teacher_Comments</th>\n",
       "    </tr>\n",
       "  </thead>\n",
       "  <tbody>\n",
       "    <tr>\n",
       "      <th>0</th>\n",
       "      <td>S00396</td>\n",
       "      <td>Arabic</td>\n",
       "      <td>76</td>\n",
       "      <td>90</td>\n",
       "      <td>Possible I large perhaps onto impact pretty ag...</td>\n",
       "    </tr>\n",
       "    <tr>\n",
       "      <th>1</th>\n",
       "      <td>S06544</td>\n",
       "      <td>Math</td>\n",
       "      <td>91</td>\n",
       "      <td>100%</td>\n",
       "      <td>Attention very once light speak yeah against c...</td>\n",
       "    </tr>\n",
       "    <tr>\n",
       "      <th>2</th>\n",
       "      <td>S01277</td>\n",
       "      <td>Science</td>\n",
       "      <td>92</td>\n",
       "      <td>100%</td>\n",
       "      <td>Something piece phone wish rich these where ca...</td>\n",
       "    </tr>\n",
       "    <tr>\n",
       "      <th>3</th>\n",
       "      <td>S00686</td>\n",
       "      <td>English</td>\n",
       "      <td>40</td>\n",
       "      <td>90</td>\n",
       "      <td>Generation same story stand better father perf...</td>\n",
       "    </tr>\n",
       "    <tr>\n",
       "      <th>4</th>\n",
       "      <td>S10984</td>\n",
       "      <td>History</td>\n",
       "      <td>57</td>\n",
       "      <td>90</td>\n",
       "      <td>Minute board finally traditional clear result ...</td>\n",
       "    </tr>\n",
       "  </tbody>\n",
       "</table>\n",
       "</div>"
      ],
      "text/plain": [
       "  Student_ID  Subject  Exam_Score Homework_Completion_%  \\\n",
       "0     S00396   Arabic          76                    90   \n",
       "1     S06544     Math          91                  100%   \n",
       "2     S01277  Science          92                  100%   \n",
       "3     S00686  English          40                    90   \n",
       "4     S10984  History          57                    90   \n",
       "\n",
       "                                    Teacher_Comments  \n",
       "0  Possible I large perhaps onto impact pretty ag...  \n",
       "1  Attention very once light speak yeah against c...  \n",
       "2  Something piece phone wish rich these where ca...  \n",
       "3  Generation same story stand better father perf...  \n",
       "4  Minute board finally traditional clear result ...  "
      ]
     },
     "execution_count": 6,
     "metadata": {},
     "output_type": "execute_result"
    }
   ],
   "source": [
    "df_performance.head()"
   ]
  },
  {
   "cell_type": "markdown",
   "id": "cab20882-e66c-4b71-9703-630fa0981f10",
   "metadata": {},
   "source": [
    "## Students"
   ]
  },
  {
   "cell_type": "code",
   "execution_count": 7,
   "id": "9a4169a1-c46d-4bf1-876f-c0c4430d43e5",
   "metadata": {},
   "outputs": [
    {
     "data": {
      "text/html": [
       "<div>\n",
       "<style scoped>\n",
       "    .dataframe tbody tr th:only-of-type {\n",
       "        vertical-align: middle;\n",
       "    }\n",
       "\n",
       "    .dataframe tbody tr th {\n",
       "        vertical-align: top;\n",
       "    }\n",
       "\n",
       "    .dataframe thead th {\n",
       "        text-align: right;\n",
       "    }\n",
       "</style>\n",
       "<table border=\"1\" class=\"dataframe\">\n",
       "  <thead>\n",
       "    <tr style=\"text-align: right;\">\n",
       "      <th></th>\n",
       "      <th>Student_ID</th>\n",
       "      <th>Full_Name</th>\n",
       "      <th>Date_of_Birth</th>\n",
       "      <th>Grade_Level</th>\n",
       "      <th>Emergency_Contact</th>\n",
       "    </tr>\n",
       "  </thead>\n",
       "  <tbody>\n",
       "    <tr>\n",
       "      <th>0</th>\n",
       "      <td>S00001</td>\n",
       "      <td>Donna Williams</td>\n",
       "      <td>2007-02-10</td>\n",
       "      <td>Grade 3</td>\n",
       "      <td>781-534-4258x9046</td>\n",
       "    </tr>\n",
       "    <tr>\n",
       "      <th>1</th>\n",
       "      <td>S00002</td>\n",
       "      <td>John Stafford</td>\n",
       "      <td>2014-11-26</td>\n",
       "      <td>Grade 5</td>\n",
       "      <td>+1-782-691-6291x99704</td>\n",
       "    </tr>\n",
       "    <tr>\n",
       "      <th>2</th>\n",
       "      <td>S00003</td>\n",
       "      <td>Chad Harper</td>\n",
       "      <td>2017-02-07</td>\n",
       "      <td>Grade 3</td>\n",
       "      <td>308.517.3750</td>\n",
       "    </tr>\n",
       "    <tr>\n",
       "      <th>3</th>\n",
       "      <td>S00004</td>\n",
       "      <td>Anthony Martin</td>\n",
       "      <td>11-10-2014</td>\n",
       "      <td>Grade 5</td>\n",
       "      <td>306-771-1524x116</td>\n",
       "    </tr>\n",
       "    <tr>\n",
       "      <th>4</th>\n",
       "      <td>S00005</td>\n",
       "      <td>Mary Stone</td>\n",
       "      <td>04-01-2016</td>\n",
       "      <td>Grade 3</td>\n",
       "      <td>+1-794-484-8495x7772</td>\n",
       "    </tr>\n",
       "  </tbody>\n",
       "</table>\n",
       "</div>"
      ],
      "text/plain": [
       "  Student_ID       Full_Name Date_of_Birth Grade_Level      Emergency_Contact\n",
       "0     S00001  Donna Williams    2007-02-10     Grade 3      781-534-4258x9046\n",
       "1     S00002   John Stafford    2014-11-26     Grade 5  +1-782-691-6291x99704\n",
       "2     S00003     Chad Harper    2017-02-07     Grade 3           308.517.3750\n",
       "3     S00004  Anthony Martin    11-10-2014     Grade 5       306-771-1524x116\n",
       "4     S00005      Mary Stone    04-01-2016     Grade 3   +1-794-484-8495x7772"
      ]
     },
     "execution_count": 7,
     "metadata": {},
     "output_type": "execute_result"
    }
   ],
   "source": [
    "df_students.head()"
   ]
  },
  {
   "cell_type": "markdown",
   "id": "3b10bcf9-9c0e-49fe-8cbd-04e827813f0c",
   "metadata": {},
   "source": [
    "## Parent Teacher Communication "
   ]
  },
  {
   "cell_type": "code",
   "execution_count": 8,
   "id": "a1954df2-360a-4b62-a8f3-23f3ddbb6f3c",
   "metadata": {},
   "outputs": [
    {
     "data": {
      "text/html": [
       "<div>\n",
       "<style scoped>\n",
       "    .dataframe tbody tr th:only-of-type {\n",
       "        vertical-align: middle;\n",
       "    }\n",
       "\n",
       "    .dataframe tbody tr th {\n",
       "        vertical-align: top;\n",
       "    }\n",
       "\n",
       "    .dataframe thead th {\n",
       "        text-align: right;\n",
       "    }\n",
       "</style>\n",
       "<table border=\"1\" class=\"dataframe\">\n",
       "  <thead>\n",
       "    <tr style=\"text-align: right;\">\n",
       "      <th></th>\n",
       "      <th>Student_ID</th>\n",
       "      <th>Date</th>\n",
       "      <th>Message_Type</th>\n",
       "      <th>Message_Content</th>\n",
       "    </tr>\n",
       "  </thead>\n",
       "  <tbody>\n",
       "    <tr>\n",
       "      <th>0</th>\n",
       "      <td>S01133</td>\n",
       "      <td>2025-01-20</td>\n",
       "      <td>Automated Reminder</td>\n",
       "      <td>Cut authority ball must cut to maintain think ...</td>\n",
       "    </tr>\n",
       "    <tr>\n",
       "      <th>1</th>\n",
       "      <td>S11179</td>\n",
       "      <td>2024-11-16</td>\n",
       "      <td>Parent to Teacher</td>\n",
       "      <td>Far baby different conference evening gas floo...</td>\n",
       "    </tr>\n",
       "    <tr>\n",
       "      <th>2</th>\n",
       "      <td>S09537</td>\n",
       "      <td>2024-12-03</td>\n",
       "      <td>Parent to Teacher</td>\n",
       "      <td>According this reality reality wish join seaso...</td>\n",
       "    </tr>\n",
       "    <tr>\n",
       "      <th>3</th>\n",
       "      <td>S00478</td>\n",
       "      <td>2025-01-25</td>\n",
       "      <td>Teacher to Parent</td>\n",
       "      <td>Feel article ever success choose serve forget ...</td>\n",
       "    </tr>\n",
       "    <tr>\n",
       "      <th>4</th>\n",
       "      <td>S04736</td>\n",
       "      <td>2024-10-15</td>\n",
       "      <td>Parent to Teacher</td>\n",
       "      <td>Friend wonder contain customer operation half ...</td>\n",
       "    </tr>\n",
       "  </tbody>\n",
       "</table>\n",
       "</div>"
      ],
      "text/plain": [
       "  Student_ID        Date        Message_Type  \\\n",
       "0     S01133  2025-01-20  Automated Reminder   \n",
       "1     S11179  2024-11-16   Parent to Teacher   \n",
       "2     S09537  2024-12-03   Parent to Teacher   \n",
       "3     S00478  2025-01-25   Teacher to Parent   \n",
       "4     S04736  2024-10-15   Parent to Teacher   \n",
       "\n",
       "                                     Message_Content  \n",
       "0  Cut authority ball must cut to maintain think ...  \n",
       "1  Far baby different conference evening gas floo...  \n",
       "2  According this reality reality wish join seaso...  \n",
       "3  Feel article ever success choose serve forget ...  \n",
       "4  Friend wonder contain customer operation half ...  "
      ]
     },
     "execution_count": 8,
     "metadata": {},
     "output_type": "execute_result"
    }
   ],
   "source": [
    "df_communication.head()"
   ]
  },
  {
   "cell_type": "markdown",
   "id": "16b1e57b-178b-46bb-b420-2c4731fe5139",
   "metadata": {},
   "source": [
    "## EDA Attendance"
   ]
  },
  {
   "cell_type": "code",
   "execution_count": 9,
   "id": "fe1826a1-1708-46ae-8353-435f122b0b72",
   "metadata": {},
   "outputs": [
    {
     "data": {
      "text/html": [
       "<div>\n",
       "<style scoped>\n",
       "    .dataframe tbody tr th:only-of-type {\n",
       "        vertical-align: middle;\n",
       "    }\n",
       "\n",
       "    .dataframe tbody tr th {\n",
       "        vertical-align: top;\n",
       "    }\n",
       "\n",
       "    .dataframe thead th {\n",
       "        text-align: right;\n",
       "    }\n",
       "</style>\n",
       "<table border=\"1\" class=\"dataframe\">\n",
       "  <thead>\n",
       "    <tr style=\"text-align: right;\">\n",
       "      <th></th>\n",
       "      <th>Student_ID</th>\n",
       "      <th>Date</th>\n",
       "      <th>Subject</th>\n",
       "      <th>Attendance_Status</th>\n",
       "    </tr>\n",
       "  </thead>\n",
       "  <tbody>\n",
       "    <tr>\n",
       "      <th>346503</th>\n",
       "      <td>S00001</td>\n",
       "      <td>2024-06-20</td>\n",
       "      <td>Geography</td>\n",
       "      <td>Late</td>\n",
       "    </tr>\n",
       "    <tr>\n",
       "      <th>256270</th>\n",
       "      <td>S00001</td>\n",
       "      <td>2025-01-05</td>\n",
       "      <td>Math</td>\n",
       "      <td>PRESENT</td>\n",
       "    </tr>\n",
       "    <tr>\n",
       "      <th>187083</th>\n",
       "      <td>S00001</td>\n",
       "      <td>2024-07-06</td>\n",
       "      <td>Math</td>\n",
       "      <td>late</td>\n",
       "    </tr>\n",
       "    <tr>\n",
       "      <th>51354</th>\n",
       "      <td>S00001</td>\n",
       "      <td>2024-12-25</td>\n",
       "      <td>Science</td>\n",
       "      <td>PRESENT</td>\n",
       "    </tr>\n",
       "    <tr>\n",
       "      <th>181104</th>\n",
       "      <td>S00001</td>\n",
       "      <td>2024-08-07</td>\n",
       "      <td>Arabic</td>\n",
       "      <td>Present</td>\n",
       "    </tr>\n",
       "    <tr>\n",
       "      <th>31542</th>\n",
       "      <td>S00001</td>\n",
       "      <td>2024-12-02</td>\n",
       "      <td>Math</td>\n",
       "      <td>PRESENT</td>\n",
       "    </tr>\n",
       "    <tr>\n",
       "      <th>14296</th>\n",
       "      <td>S00001</td>\n",
       "      <td>2024-06-11</td>\n",
       "      <td>Science</td>\n",
       "      <td>late</td>\n",
       "    </tr>\n",
       "    <tr>\n",
       "      <th>205997</th>\n",
       "      <td>S00001</td>\n",
       "      <td>2024-06-26</td>\n",
       "      <td>Arabic</td>\n",
       "      <td>left early</td>\n",
       "    </tr>\n",
       "    <tr>\n",
       "      <th>270731</th>\n",
       "      <td>S00001</td>\n",
       "      <td>2024-03-18</td>\n",
       "      <td>Geography</td>\n",
       "      <td>PRESENT</td>\n",
       "    </tr>\n",
       "    <tr>\n",
       "      <th>130488</th>\n",
       "      <td>S00001</td>\n",
       "      <td>2024-09-16</td>\n",
       "      <td>Math</td>\n",
       "      <td>excused</td>\n",
       "    </tr>\n",
       "  </tbody>\n",
       "</table>\n",
       "</div>"
      ],
      "text/plain": [
       "       Student_ID        Date    Subject Attendance_Status\n",
       "346503     S00001  2024-06-20  Geography              Late\n",
       "256270     S00001  2025-01-05       Math          PRESENT \n",
       "187083     S00001  2024-07-06       Math              late\n",
       "51354      S00001  2024-12-25    Science          PRESENT \n",
       "181104     S00001  2024-08-07     Arabic           Present\n",
       "31542      S00001  2024-12-02       Math          PRESENT \n",
       "14296      S00001  2024-06-11    Science              late\n",
       "205997     S00001  2024-06-26     Arabic        left early\n",
       "270731     S00001  2024-03-18  Geography          PRESENT \n",
       "130488     S00001  2024-09-16       Math           excused"
      ]
     },
     "execution_count": 9,
     "metadata": {},
     "output_type": "execute_result"
    }
   ],
   "source": [
    "df_attendance = df_attendance.sort_values(by = 'Student_ID', ascending= True)\n",
    "df_attendance.head(10)"
   ]
  },
  {
   "cell_type": "code",
   "execution_count": 10,
   "id": "d9fe9bff-e5f7-40dd-910d-b09f900d0da8",
   "metadata": {},
   "outputs": [
    {
     "data": {
      "text/html": [
       "<div>\n",
       "<style scoped>\n",
       "    .dataframe tbody tr th:only-of-type {\n",
       "        vertical-align: middle;\n",
       "    }\n",
       "\n",
       "    .dataframe tbody tr th {\n",
       "        vertical-align: top;\n",
       "    }\n",
       "\n",
       "    .dataframe thead th {\n",
       "        text-align: right;\n",
       "    }\n",
       "</style>\n",
       "<table border=\"1\" class=\"dataframe\">\n",
       "  <thead>\n",
       "    <tr style=\"text-align: right;\">\n",
       "      <th></th>\n",
       "      <th>Student_ID</th>\n",
       "      <th>Date</th>\n",
       "      <th>Subject</th>\n",
       "      <th>Attendance_Status</th>\n",
       "    </tr>\n",
       "  </thead>\n",
       "  <tbody>\n",
       "    <tr>\n",
       "      <th>346503</th>\n",
       "      <td>S00001</td>\n",
       "      <td>2024-06-20</td>\n",
       "      <td>Geography</td>\n",
       "      <td>Late</td>\n",
       "    </tr>\n",
       "    <tr>\n",
       "      <th>256270</th>\n",
       "      <td>S00001</td>\n",
       "      <td>2025-01-05</td>\n",
       "      <td>Math</td>\n",
       "      <td>PRESENT</td>\n",
       "    </tr>\n",
       "    <tr>\n",
       "      <th>187083</th>\n",
       "      <td>S00001</td>\n",
       "      <td>2024-07-06</td>\n",
       "      <td>Math</td>\n",
       "      <td>late</td>\n",
       "    </tr>\n",
       "    <tr>\n",
       "      <th>51354</th>\n",
       "      <td>S00001</td>\n",
       "      <td>2024-12-25</td>\n",
       "      <td>Science</td>\n",
       "      <td>PRESENT</td>\n",
       "    </tr>\n",
       "    <tr>\n",
       "      <th>181104</th>\n",
       "      <td>S00001</td>\n",
       "      <td>2024-08-07</td>\n",
       "      <td>Arabic</td>\n",
       "      <td>Present</td>\n",
       "    </tr>\n",
       "    <tr>\n",
       "      <th>31542</th>\n",
       "      <td>S00001</td>\n",
       "      <td>2024-12-02</td>\n",
       "      <td>Math</td>\n",
       "      <td>PRESENT</td>\n",
       "    </tr>\n",
       "    <tr>\n",
       "      <th>14296</th>\n",
       "      <td>S00001</td>\n",
       "      <td>2024-06-11</td>\n",
       "      <td>Science</td>\n",
       "      <td>late</td>\n",
       "    </tr>\n",
       "    <tr>\n",
       "      <th>205997</th>\n",
       "      <td>S00001</td>\n",
       "      <td>2024-06-26</td>\n",
       "      <td>Arabic</td>\n",
       "      <td>left early</td>\n",
       "    </tr>\n",
       "    <tr>\n",
       "      <th>270731</th>\n",
       "      <td>S00001</td>\n",
       "      <td>2024-03-18</td>\n",
       "      <td>Geography</td>\n",
       "      <td>PRESENT</td>\n",
       "    </tr>\n",
       "    <tr>\n",
       "      <th>130488</th>\n",
       "      <td>S00001</td>\n",
       "      <td>2024-09-16</td>\n",
       "      <td>Math</td>\n",
       "      <td>excused</td>\n",
       "    </tr>\n",
       "  </tbody>\n",
       "</table>\n",
       "</div>"
      ],
      "text/plain": [
       "       Student_ID        Date    Subject Attendance_Status\n",
       "346503     S00001  2024-06-20  Geography              Late\n",
       "256270     S00001  2025-01-05       Math          PRESENT \n",
       "187083     S00001  2024-07-06       Math              late\n",
       "51354      S00001  2024-12-25    Science          PRESENT \n",
       "181104     S00001  2024-08-07     Arabic           Present\n",
       "31542      S00001  2024-12-02       Math          PRESENT \n",
       "14296      S00001  2024-06-11    Science              late\n",
       "205997     S00001  2024-06-26     Arabic        left early\n",
       "270731     S00001  2024-03-18  Geography          PRESENT \n",
       "130488     S00001  2024-09-16       Math           excused"
      ]
     },
     "execution_count": 10,
     "metadata": {},
     "output_type": "execute_result"
    }
   ],
   "source": [
    "df_attendance.head(10)"
   ]
  },
  {
   "cell_type": "code",
   "execution_count": 11,
   "id": "bbf2e701-33a9-4441-b6ae-67f052689033",
   "metadata": {},
   "outputs": [
    {
     "data": {
      "text/plain": [
       "Student_ID           12156\n",
       "Date                   366\n",
       "Subject                  6\n",
       "Attendance_Status        8\n",
       "dtype: int64"
      ]
     },
     "execution_count": 11,
     "metadata": {},
     "output_type": "execute_result"
    }
   ],
   "source": [
    "df_attendance.nunique()"
   ]
  },
  {
   "cell_type": "code",
   "execution_count": 12,
   "id": "710404fe-a4ad-4910-a5ba-20f1a3de91f8",
   "metadata": {},
   "outputs": [
    {
     "data": {
      "text/plain": [
       "Attendance_Status\n",
       "PRESENT       45982\n",
       "Absent        45751\n",
       "Present       45632\n",
       "Late          45509\n",
       " late         45508\n",
       "absnt         45478\n",
       "left early    45435\n",
       "excused       45385\n",
       "Name: count, dtype: int64"
      ]
     },
     "execution_count": 12,
     "metadata": {},
     "output_type": "execute_result"
    }
   ],
   "source": [
    "df_attendance['Attendance_Status'].value_counts()"
   ]
  },
  {
   "cell_type": "code",
   "execution_count": 13,
   "id": "27ae8e9d-25f1-4f9b-bd9e-2de3e4bcf0f1",
   "metadata": {},
   "outputs": [
    {
     "name": "stderr",
     "output_type": "stream",
     "text": [
      "C:\\Users\\amrit\\AppData\\Local\\Temp\\ipykernel_38336\\3931259186.py:2: FutureWarning: A value is trying to be set on a copy of a DataFrame or Series through chained assignment using an inplace method.\n",
      "The behavior will change in pandas 3.0. This inplace method will never work because the intermediate object on which we are setting values always behaves as a copy.\n",
      "\n",
      "For example, when doing 'df[col].method(value, inplace=True)', try using 'df.method({col: value}, inplace=True)' or df[col] = df[col].method(value) instead, to perform the operation inplace on the original object.\n",
      "\n",
      "\n",
      "  df_attendance['Attendance_Status'].replace({'PRESENT':'Present', 'late':'Late','absnt':'Absent', 'left early':'Left Early', 'excused':'Excused'}, inplace = True)\n"
     ]
    },
    {
     "data": {
      "text/plain": [
       "Attendance_Status\n",
       "Present       91614\n",
       "Absent        91229\n",
       "Late          91017\n",
       "Left Early    45435\n",
       "Excused       45385\n",
       "Name: count, dtype: int64"
      ]
     },
     "execution_count": 13,
     "metadata": {},
     "output_type": "execute_result"
    }
   ],
   "source": [
    "df_attendance['Attendance_Status'] = df_attendance['Attendance_Status'].str.strip()\n",
    "df_attendance['Attendance_Status'] = df_attendance['Attendance_Status'].replace({'PRESENT':'Present', 'late':'Late','absnt':'Absent', 'left early':'Left Early', 'excused':'Excused'})\n",
    "df_attendance['Attendance_Status'].value_counts()"
   ]
  },
  {
   "cell_type": "code",
   "execution_count": 14,
   "id": "dd73393f-7a02-4592-a66d-f632e362e6b3",
   "metadata": {
    "scrolled": true
   },
   "outputs": [
    {
     "data": {
      "text/plain": [
       "Subject\n",
       "Math         61241\n",
       "Science      60881\n",
       "Arabic       60749\n",
       "English      60684\n",
       "Geography    60640\n",
       "History      60485\n",
       "Name: count, dtype: int64"
      ]
     },
     "execution_count": 14,
     "metadata": {},
     "output_type": "execute_result"
    }
   ],
   "source": [
    "df_attendance['Subject'].value_counts()"
   ]
  },
  {
   "cell_type": "code",
   "execution_count": 15,
   "id": "e68c92eb-e015-4857-bf91-329e23c5b646",
   "metadata": {},
   "outputs": [
    {
     "data": {
      "text/html": [
       "<div>\n",
       "<style scoped>\n",
       "    .dataframe tbody tr th:only-of-type {\n",
       "        vertical-align: middle;\n",
       "    }\n",
       "\n",
       "    .dataframe tbody tr th {\n",
       "        vertical-align: top;\n",
       "    }\n",
       "\n",
       "    .dataframe thead th {\n",
       "        text-align: right;\n",
       "    }\n",
       "</style>\n",
       "<table border=\"1\" class=\"dataframe\">\n",
       "  <thead>\n",
       "    <tr style=\"text-align: right;\">\n",
       "      <th></th>\n",
       "      <th>Student_ID</th>\n",
       "      <th>Date</th>\n",
       "      <th>Subject</th>\n",
       "      <th>Attendance_Status</th>\n",
       "    </tr>\n",
       "  </thead>\n",
       "  <tbody>\n",
       "  </tbody>\n",
       "</table>\n",
       "</div>"
      ],
      "text/plain": [
       "Empty DataFrame\n",
       "Columns: [Student_ID, Date, Subject, Attendance_Status]\n",
       "Index: []"
      ]
     },
     "execution_count": 15,
     "metadata": {},
     "output_type": "execute_result"
    }
   ],
   "source": [
    "df_attendance['Date'] = df_attendance['Date'].str.strip()\n",
    "bad_rows = df_attendance[~df_attendance['Date'].str.match(r'^\\d{4}-\\d{2}-\\d{2}$')]\n",
    "bad_rows"
   ]
  },
  {
   "cell_type": "code",
   "execution_count": 16,
   "id": "e2495fd6-d7dd-4886-ab48-4949f3ca72f0",
   "metadata": {},
   "outputs": [
    {
     "data": {
      "text/html": [
       "<div>\n",
       "<style scoped>\n",
       "    .dataframe tbody tr th:only-of-type {\n",
       "        vertical-align: middle;\n",
       "    }\n",
       "\n",
       "    .dataframe tbody tr th {\n",
       "        vertical-align: top;\n",
       "    }\n",
       "\n",
       "    .dataframe thead th {\n",
       "        text-align: right;\n",
       "    }\n",
       "</style>\n",
       "<table border=\"1\" class=\"dataframe\">\n",
       "  <thead>\n",
       "    <tr style=\"text-align: right;\">\n",
       "      <th></th>\n",
       "      <th>Student_ID</th>\n",
       "      <th>Date</th>\n",
       "      <th>Subject</th>\n",
       "      <th>Attendance_Status</th>\n",
       "    </tr>\n",
       "  </thead>\n",
       "  <tbody>\n",
       "  </tbody>\n",
       "</table>\n",
       "</div>"
      ],
      "text/plain": [
       "Empty DataFrame\n",
       "Columns: [Student_ID, Date, Subject, Attendance_Status]\n",
       "Index: []"
      ]
     },
     "execution_count": 16,
     "metadata": {},
     "output_type": "execute_result"
    }
   ],
   "source": [
    "df_attendance['Student_ID'] = df_attendance['Student_ID'].str.strip()\n",
    "bad_rows = df_attendance[~df_attendance['Student_ID'].str.match(r'^S\\d{5}$')]\n",
    "bad_rows"
   ]
  },
  {
   "cell_type": "code",
   "execution_count": 17,
   "id": "a76015dc-d834-49fe-8e92-2c30e8690d79",
   "metadata": {},
   "outputs": [
    {
     "data": {
      "text/plain": [
       "np.int64(515)"
      ]
     },
     "execution_count": 17,
     "metadata": {},
     "output_type": "execute_result"
    }
   ],
   "source": [
    "df_attendance.duplicated().sum()"
   ]
  },
  {
   "cell_type": "code",
   "execution_count": 18,
   "id": "7515a34c-3661-4482-ad7a-8c75a6c4defa",
   "metadata": {},
   "outputs": [
    {
     "data": {
      "text/plain": [
       "np.int64(0)"
      ]
     },
     "execution_count": 18,
     "metadata": {},
     "output_type": "execute_result"
    }
   ],
   "source": [
    "df_attendance.drop_duplicates(inplace = True)\n",
    "df_attendance.duplicated().sum()"
   ]
  },
  {
   "cell_type": "markdown",
   "id": "38eba89c-6256-42f7-bdcf-28302c3b7069",
   "metadata": {},
   "source": [
    "## Homework EDA"
   ]
  },
  {
   "cell_type": "code",
   "execution_count": 19,
   "id": "28cd19db-c354-4cdf-afb2-0c343b76349a",
   "metadata": {},
   "outputs": [
    {
     "data": {
      "text/html": [
       "<div>\n",
       "<style scoped>\n",
       "    .dataframe tbody tr th:only-of-type {\n",
       "        vertical-align: middle;\n",
       "    }\n",
       "\n",
       "    .dataframe tbody tr th {\n",
       "        vertical-align: top;\n",
       "    }\n",
       "\n",
       "    .dataframe thead th {\n",
       "        text-align: right;\n",
       "    }\n",
       "</style>\n",
       "<table border=\"1\" class=\"dataframe\">\n",
       "  <thead>\n",
       "    <tr style=\"text-align: right;\">\n",
       "      <th></th>\n",
       "      <th>Student_ID</th>\n",
       "      <th>Subject</th>\n",
       "      <th>Assignment_Name</th>\n",
       "      <th>Due_Date</th>\n",
       "      <th>Status</th>\n",
       "      <th>Grade_Feedback</th>\n",
       "      <th>Guardian_Signature</th>\n",
       "    </tr>\n",
       "  </thead>\n",
       "  <tbody>\n",
       "    <tr>\n",
       "      <th>6538</th>\n",
       "      <td>S00001</td>\n",
       "      <td>Arabic</td>\n",
       "      <td>Heavy consider process report.</td>\n",
       "      <td>10/02/2024</td>\n",
       "      <td>✔</td>\n",
       "      <td>B-</td>\n",
       "      <td>Yes</td>\n",
       "    </tr>\n",
       "    <tr>\n",
       "      <th>23213</th>\n",
       "      <td>S00001</td>\n",
       "      <td>Arabic</td>\n",
       "      <td>People audience.</td>\n",
       "      <td>2024-12-30</td>\n",
       "      <td>pending</td>\n",
       "      <td>B-</td>\n",
       "      <td>No</td>\n",
       "    </tr>\n",
       "    <tr>\n",
       "      <th>19018</th>\n",
       "      <td>S00001</td>\n",
       "      <td>English</td>\n",
       "      <td>Miss capital.</td>\n",
       "      <td>2025-01-22</td>\n",
       "      <td>not done</td>\n",
       "      <td>B</td>\n",
       "      <td>No</td>\n",
       "    </tr>\n",
       "    <tr>\n",
       "      <th>34572</th>\n",
       "      <td>S00002</td>\n",
       "      <td>Math</td>\n",
       "      <td>Culture claim.</td>\n",
       "      <td>2024-12-05</td>\n",
       "      <td>pending</td>\n",
       "      <td>F</td>\n",
       "      <td>No</td>\n",
       "    </tr>\n",
       "    <tr>\n",
       "      <th>60715</th>\n",
       "      <td>S00002</td>\n",
       "      <td>History</td>\n",
       "      <td>Level somebody by everyone.</td>\n",
       "      <td>2025-01-13</td>\n",
       "      <td>not done</td>\n",
       "      <td>F</td>\n",
       "      <td></td>\n",
       "    </tr>\n",
       "    <tr>\n",
       "      <th>54136</th>\n",
       "      <td>S00002</td>\n",
       "      <td>English</td>\n",
       "      <td>Wrong enter chair.</td>\n",
       "      <td>2024-12-06</td>\n",
       "      <td>✔</td>\n",
       "      <td>B-</td>\n",
       "      <td></td>\n",
       "    </tr>\n",
       "    <tr>\n",
       "      <th>59996</th>\n",
       "      <td>S00002</td>\n",
       "      <td>Geography</td>\n",
       "      <td>Mission medical.</td>\n",
       "      <td>2025-03-06</td>\n",
       "      <td>✔</td>\n",
       "      <td>A</td>\n",
       "      <td></td>\n",
       "    </tr>\n",
       "    <tr>\n",
       "      <th>11854</th>\n",
       "      <td>S00003</td>\n",
       "      <td>Math</td>\n",
       "      <td>General participant.</td>\n",
       "      <td>2025-01-07</td>\n",
       "      <td>✔</td>\n",
       "      <td>B</td>\n",
       "      <td></td>\n",
       "    </tr>\n",
       "    <tr>\n",
       "      <th>53662</th>\n",
       "      <td>S00003</td>\n",
       "      <td>Math</td>\n",
       "      <td>If message by.</td>\n",
       "      <td>2024-12-09</td>\n",
       "      <td>pending</td>\n",
       "      <td>B</td>\n",
       "      <td>No</td>\n",
       "    </tr>\n",
       "    <tr>\n",
       "      <th>36887</th>\n",
       "      <td>S00003</td>\n",
       "      <td>Math</td>\n",
       "      <td>Such lead around.</td>\n",
       "      <td>2025-02-27</td>\n",
       "      <td>✔</td>\n",
       "      <td>A+</td>\n",
       "      <td>No</td>\n",
       "    </tr>\n",
       "  </tbody>\n",
       "</table>\n",
       "</div>"
      ],
      "text/plain": [
       "      Student_ID    Subject                 Assignment_Name    Due_Date  \\\n",
       "6538      S00001     Arabic  Heavy consider process report.  10/02/2024   \n",
       "23213     S00001     Arabic                People audience.  2024-12-30   \n",
       "19018     S00001    English                   Miss capital.  2025-01-22   \n",
       "34572     S00002       Math                  Culture claim.  2024-12-05   \n",
       "60715     S00002    History     Level somebody by everyone.  2025-01-13   \n",
       "54136     S00002    English              Wrong enter chair.  2024-12-06   \n",
       "59996     S00002  Geography                Mission medical.  2025-03-06   \n",
       "11854     S00003       Math            General participant.  2025-01-07   \n",
       "53662     S00003       Math                  If message by.  2024-12-09   \n",
       "36887     S00003       Math               Such lead around.  2025-02-27   \n",
       "\n",
       "         Status Grade_Feedback Guardian_Signature  \n",
       "6538          ✔             B-                Yes  \n",
       "23213   pending             B-                 No  \n",
       "19018  not done              B                 No  \n",
       "34572   pending              F                 No  \n",
       "60715  not done              F                     \n",
       "54136         ✔             B-                     \n",
       "59996         ✔              A                     \n",
       "11854         ✔              B                     \n",
       "53662   pending              B                 No  \n",
       "36887         ✔             A+                 No  "
      ]
     },
     "execution_count": 19,
     "metadata": {},
     "output_type": "execute_result"
    }
   ],
   "source": [
    "df_homework.sort_values('Student_ID', ascending = True, inplace = True)\n",
    "df_homework.head(10)"
   ]
  },
  {
   "cell_type": "code",
   "execution_count": 20,
   "id": "5040d91b-26a7-4b15-9101-8f3a5e5e098b",
   "metadata": {},
   "outputs": [
    {
     "name": "stdout",
     "output_type": "stream",
     "text": [
      "<class 'pandas.core.frame.DataFrame'>\n",
      "Index: 60780 entries, 6538 to 16881\n",
      "Data columns (total 7 columns):\n",
      " #   Column              Non-Null Count  Dtype \n",
      "---  ------              --------------  ----- \n",
      " 0   Student_ID          60780 non-null  object\n",
      " 1   Subject             60780 non-null  object\n",
      " 2   Assignment_Name     60780 non-null  object\n",
      " 3   Due_Date            60780 non-null  object\n",
      " 4   Status              60780 non-null  object\n",
      " 5   Grade_Feedback      60780 non-null  object\n",
      " 6   Guardian_Signature  60780 non-null  object\n",
      "dtypes: object(7)\n",
      "memory usage: 3.7+ MB\n"
     ]
    }
   ],
   "source": [
    "df_homework.info()"
   ]
  },
  {
   "cell_type": "code",
   "execution_count": 21,
   "id": "46a43c4b-4133-4ddb-84bd-c1ce7eafaae6",
   "metadata": {},
   "outputs": [
    {
     "data": {
      "text/plain": [
       "Subject\n",
       "English      10209\n",
       "Geography    10179\n",
       "Science      10112\n",
       "History      10110\n",
       "Arabic       10106\n",
       "Math         10064\n",
       "Name: count, dtype: int64"
      ]
     },
     "execution_count": 21,
     "metadata": {},
     "output_type": "execute_result"
    }
   ],
   "source": [
    "df_homework['Subject'].value_counts()"
   ]
  },
  {
   "cell_type": "code",
   "execution_count": 22,
   "id": "bac709bc-4923-482a-b278-351ce41ae7b7",
   "metadata": {},
   "outputs": [
    {
     "data": {
      "text/plain": [
       "Assignment_Name\n",
       "Term.                     15\n",
       "Also.                     15\n",
       "Not.                      13\n",
       "Understand.               13\n",
       "Final.                    12\n",
       "                          ..\n",
       "Want like.                 1\n",
       "Teacher crime listen.      1\n",
       "Own blue other.            1\n",
       "Certain cup growth.        1\n",
       "How town west manager.     1\n",
       "Name: count, Length: 56065, dtype: int64"
      ]
     },
     "execution_count": 22,
     "metadata": {},
     "output_type": "execute_result"
    }
   ],
   "source": [
    "df_homework['Assignment_Name'].value_counts()"
   ]
  },
  {
   "cell_type": "code",
   "execution_count": 23,
   "id": "d6336be3-7943-40e3-ba65-bbe64f3be3b0",
   "metadata": {},
   "outputs": [
    {
     "data": {
      "text/html": [
       "<div>\n",
       "<style scoped>\n",
       "    .dataframe tbody tr th:only-of-type {\n",
       "        vertical-align: middle;\n",
       "    }\n",
       "\n",
       "    .dataframe tbody tr th {\n",
       "        vertical-align: top;\n",
       "    }\n",
       "\n",
       "    .dataframe thead th {\n",
       "        text-align: right;\n",
       "    }\n",
       "</style>\n",
       "<table border=\"1\" class=\"dataframe\">\n",
       "  <thead>\n",
       "    <tr style=\"text-align: right;\">\n",
       "      <th></th>\n",
       "      <th>Student_ID</th>\n",
       "      <th>Subject</th>\n",
       "      <th>Assignment_Name</th>\n",
       "      <th>Due_Date</th>\n",
       "      <th>Status</th>\n",
       "      <th>Grade_Feedback</th>\n",
       "      <th>Guardian_Signature</th>\n",
       "    </tr>\n",
       "  </thead>\n",
       "  <tbody>\n",
       "    <tr>\n",
       "      <th>6538</th>\n",
       "      <td>S00001</td>\n",
       "      <td>Arabic</td>\n",
       "      <td>Heavy consider process report.</td>\n",
       "      <td>10/02/2024</td>\n",
       "      <td>✔</td>\n",
       "      <td>B-</td>\n",
       "      <td>Yes</td>\n",
       "    </tr>\n",
       "    <tr>\n",
       "      <th>15</th>\n",
       "      <td>S00004</td>\n",
       "      <td>English</td>\n",
       "      <td>Movement before.</td>\n",
       "      <td>03/02/2025</td>\n",
       "      <td>✔</td>\n",
       "      <td>C-</td>\n",
       "      <td>No</td>\n",
       "    </tr>\n",
       "    <tr>\n",
       "      <th>38135</th>\n",
       "      <td>S00005</td>\n",
       "      <td>History</td>\n",
       "      <td>Table scientist.</td>\n",
       "      <td>11/24/2024</td>\n",
       "      <td>✔</td>\n",
       "      <td>B</td>\n",
       "      <td></td>\n",
       "    </tr>\n",
       "    <tr>\n",
       "      <th>49857</th>\n",
       "      <td>S00005</td>\n",
       "      <td>History</td>\n",
       "      <td>Rather war dream.</td>\n",
       "      <td>02/05/2025</td>\n",
       "      <td>✔</td>\n",
       "      <td>B</td>\n",
       "      <td>No</td>\n",
       "    </tr>\n",
       "    <tr>\n",
       "      <th>25708</th>\n",
       "      <td>S00006</td>\n",
       "      <td>English</td>\n",
       "      <td>Question tend local.</td>\n",
       "      <td>02/13/2025</td>\n",
       "      <td>pending</td>\n",
       "      <td>A</td>\n",
       "      <td>Yes</td>\n",
       "    </tr>\n",
       "    <tr>\n",
       "      <th>...</th>\n",
       "      <td>...</td>\n",
       "      <td>...</td>\n",
       "      <td>...</td>\n",
       "      <td>...</td>\n",
       "      <td>...</td>\n",
       "      <td>...</td>\n",
       "      <td>...</td>\n",
       "    </tr>\n",
       "    <tr>\n",
       "      <th>56044</th>\n",
       "      <td>S12152</td>\n",
       "      <td>Geography</td>\n",
       "      <td>Rock do.</td>\n",
       "      <td>01/31/2025</td>\n",
       "      <td>✔</td>\n",
       "      <td>F</td>\n",
       "      <td>No</td>\n",
       "    </tr>\n",
       "    <tr>\n",
       "      <th>54623</th>\n",
       "      <td>S12155</td>\n",
       "      <td>History</td>\n",
       "      <td>No participant environment.</td>\n",
       "      <td>11/07/2024</td>\n",
       "      <td>not done</td>\n",
       "      <td>A+</td>\n",
       "      <td>Yes</td>\n",
       "    </tr>\n",
       "    <tr>\n",
       "      <th>22757</th>\n",
       "      <td>S12155</td>\n",
       "      <td>Science</td>\n",
       "      <td>Sense land else.</td>\n",
       "      <td>02/09/2025</td>\n",
       "      <td>not done</td>\n",
       "      <td>C-</td>\n",
       "      <td>No</td>\n",
       "    </tr>\n",
       "    <tr>\n",
       "      <th>51758</th>\n",
       "      <td>S12155</td>\n",
       "      <td>Science</td>\n",
       "      <td>Likely season list.</td>\n",
       "      <td>11/05/2024</td>\n",
       "      <td>not done</td>\n",
       "      <td>C-</td>\n",
       "      <td></td>\n",
       "    </tr>\n",
       "    <tr>\n",
       "      <th>5409</th>\n",
       "      <td>S12156</td>\n",
       "      <td>Math</td>\n",
       "      <td>Own blue other.</td>\n",
       "      <td>01/10/2025</td>\n",
       "      <td>✅</td>\n",
       "      <td>A</td>\n",
       "      <td>Yes</td>\n",
       "    </tr>\n",
       "  </tbody>\n",
       "</table>\n",
       "<p>12358 rows × 7 columns</p>\n",
       "</div>"
      ],
      "text/plain": [
       "      Student_ID    Subject                 Assignment_Name    Due_Date  \\\n",
       "6538      S00001     Arabic  Heavy consider process report.  10/02/2024   \n",
       "15        S00004    English                Movement before.  03/02/2025   \n",
       "38135     S00005    History                Table scientist.  11/24/2024   \n",
       "49857     S00005    History               Rather war dream.  02/05/2025   \n",
       "25708     S00006    English            Question tend local.  02/13/2025   \n",
       "...          ...        ...                             ...         ...   \n",
       "56044     S12152  Geography                        Rock do.  01/31/2025   \n",
       "54623     S12155    History     No participant environment.  11/07/2024   \n",
       "22757     S12155    Science                Sense land else.  02/09/2025   \n",
       "51758     S12155    Science             Likely season list.  11/05/2024   \n",
       "5409      S12156       Math                 Own blue other.  01/10/2025   \n",
       "\n",
       "         Status Grade_Feedback Guardian_Signature  \n",
       "6538          ✔             B-                Yes  \n",
       "15            ✔             C-                 No  \n",
       "38135         ✔              B                     \n",
       "49857         ✔              B                 No  \n",
       "25708   pending              A                Yes  \n",
       "...         ...            ...                ...  \n",
       "56044         ✔              F                 No  \n",
       "54623  not done             A+                Yes  \n",
       "22757  not done             C-                 No  \n",
       "51758  not done             C-                     \n",
       "5409          ✅              A                Yes  \n",
       "\n",
       "[12358 rows x 7 columns]"
      ]
     },
     "execution_count": 23,
     "metadata": {},
     "output_type": "execute_result"
    }
   ],
   "source": [
    "df_homework['Due_Date'] = df_homework['Due_Date'].str.strip()\n",
    "bad_rows = df_homework[~df_homework['Due_Date'].str.match(r'^\\d{4}-\\d{2}-\\d{2}$')]\n",
    "bad_rows"
   ]
  },
  {
   "cell_type": "code",
   "execution_count": 24,
   "id": "f28c9f6f-34b3-4f52-a6c1-18cd40f35381",
   "metadata": {},
   "outputs": [
    {
     "data": {
      "text/html": [
       "<div>\n",
       "<style scoped>\n",
       "    .dataframe tbody tr th:only-of-type {\n",
       "        vertical-align: middle;\n",
       "    }\n",
       "\n",
       "    .dataframe tbody tr th {\n",
       "        vertical-align: top;\n",
       "    }\n",
       "\n",
       "    .dataframe thead th {\n",
       "        text-align: right;\n",
       "    }\n",
       "</style>\n",
       "<table border=\"1\" class=\"dataframe\">\n",
       "  <thead>\n",
       "    <tr style=\"text-align: right;\">\n",
       "      <th></th>\n",
       "      <th>Student_ID</th>\n",
       "      <th>Subject</th>\n",
       "      <th>Assignment_Name</th>\n",
       "      <th>Due_Date</th>\n",
       "      <th>Status</th>\n",
       "      <th>Grade_Feedback</th>\n",
       "      <th>Guardian_Signature</th>\n",
       "    </tr>\n",
       "  </thead>\n",
       "  <tbody>\n",
       "  </tbody>\n",
       "</table>\n",
       "</div>"
      ],
      "text/plain": [
       "Empty DataFrame\n",
       "Columns: [Student_ID, Subject, Assignment_Name, Due_Date, Status, Grade_Feedback, Guardian_Signature]\n",
       "Index: []"
      ]
     },
     "execution_count": 24,
     "metadata": {},
     "output_type": "execute_result"
    }
   ],
   "source": [
    "df_homework['Due_Date'] = df_homework['Due_Date'].str.replace(r'(\\d{2})/(\\d{2})/(\\d{4})', r'\\3-\\1-\\2', regex=True)\n",
    "bad_rows = df_homework[~df_homework['Due_Date'].str.match(r'^\\d{4}-\\d{2}-\\d{2}$')]\n",
    "bad_rows"
   ]
  },
  {
   "cell_type": "code",
   "execution_count": 25,
   "id": "dafb1d56-750a-4937-bc03-9360da6ed08e",
   "metadata": {},
   "outputs": [
    {
     "data": {
      "text/plain": [
       "Status\n",
       "Done        10278\n",
       "not done    10234\n",
       "❌           10151\n",
       "✔           10090\n",
       "pending     10014\n",
       "✅           10013\n",
       "Name: count, dtype: int64"
      ]
     },
     "execution_count": 25,
     "metadata": {},
     "output_type": "execute_result"
    }
   ],
   "source": [
    "df_homework['Status'] = df_homework['Status'].str.strip()\n",
    "df_homework['Status'].value_counts()"
   ]
  },
  {
   "cell_type": "code",
   "execution_count": 26,
   "id": "a82baae6-d934-45f0-8a49-2784c1942b61",
   "metadata": {},
   "outputs": [
    {
     "data": {
      "text/plain": [
       "Status\n",
       "Done        30381\n",
       "Not Done    20385\n",
       "Pending     10014\n",
       "Name: count, dtype: int64"
      ]
     },
     "execution_count": 26,
     "metadata": {},
     "output_type": "execute_result"
    }
   ],
   "source": [
    "df_homework['Status'] = df_homework['Status'].replace({'not done':'Not Done', '❌':'Not Done','✔':'Done','✅':'Done','pending':'Pending'})\n",
    "df_homework['Status'].value_counts()"
   ]
  },
  {
   "cell_type": "code",
   "execution_count": 27,
   "id": "cd843ebb-f227-46d4-9b1f-624ea70eabef",
   "metadata": {},
   "outputs": [
    {
     "data": {
      "text/plain": [
       "Grade_Feedback\n",
       "A+    7709\n",
       "B-    7639\n",
       "D     7631\n",
       "B     7591\n",
       "F     7586\n",
       "C     7585\n",
       "A     7533\n",
       "C-    7506\n",
       "Name: count, dtype: int64"
      ]
     },
     "execution_count": 27,
     "metadata": {},
     "output_type": "execute_result"
    }
   ],
   "source": [
    "df_homework['Grade_Feedback'].value_counts()"
   ]
  },
  {
   "cell_type": "code",
   "execution_count": 28,
   "id": "3d7e01cb-abb0-4c1e-8e13-d1aabae7d115",
   "metadata": {},
   "outputs": [
    {
     "data": {
      "text/plain": [
       "Guardian_Signature\n",
       "No     20372\n",
       "Yes    20348\n",
       "       20060\n",
       "Name: count, dtype: int64"
      ]
     },
     "execution_count": 28,
     "metadata": {},
     "output_type": "execute_result"
    }
   ],
   "source": [
    "df_homework['Guardian_Signature'].value_counts()"
   ]
  },
  {
   "cell_type": "code",
   "execution_count": 29,
   "id": "dfd8b3a8-f5fd-42e5-b29b-e925a4fdc79a",
   "metadata": {},
   "outputs": [
    {
     "data": {
      "text/plain": [
       "Guardian_Signature\n",
       "No         20372\n",
       "Yes        20348\n",
       "Unknown    20060\n",
       "Name: count, dtype: int64"
      ]
     },
     "execution_count": 29,
     "metadata": {},
     "output_type": "execute_result"
    }
   ],
   "source": [
    "df_homework['Guardian_Signature'] = df_homework['Guardian_Signature'].replace({' ':'Unknown'})\n",
    "df_homework['Guardian_Signature'].value_counts()"
   ]
  },
  {
   "cell_type": "code",
   "execution_count": 30,
   "id": "0b301866-a766-432f-a8a2-a3817e55e257",
   "metadata": {},
   "outputs": [
    {
     "data": {
      "text/html": [
       "<div>\n",
       "<style scoped>\n",
       "    .dataframe tbody tr th:only-of-type {\n",
       "        vertical-align: middle;\n",
       "    }\n",
       "\n",
       "    .dataframe tbody tr th {\n",
       "        vertical-align: top;\n",
       "    }\n",
       "\n",
       "    .dataframe thead th {\n",
       "        text-align: right;\n",
       "    }\n",
       "</style>\n",
       "<table border=\"1\" class=\"dataframe\">\n",
       "  <thead>\n",
       "    <tr style=\"text-align: right;\">\n",
       "      <th></th>\n",
       "      <th>Student_ID</th>\n",
       "      <th>Subject</th>\n",
       "      <th>Assignment_Name</th>\n",
       "      <th>Due_Date</th>\n",
       "      <th>Status</th>\n",
       "      <th>Grade_Feedback</th>\n",
       "      <th>Guardian_Signature</th>\n",
       "    </tr>\n",
       "  </thead>\n",
       "  <tbody>\n",
       "  </tbody>\n",
       "</table>\n",
       "</div>"
      ],
      "text/plain": [
       "Empty DataFrame\n",
       "Columns: [Student_ID, Subject, Assignment_Name, Due_Date, Status, Grade_Feedback, Guardian_Signature]\n",
       "Index: []"
      ]
     },
     "execution_count": 30,
     "metadata": {},
     "output_type": "execute_result"
    }
   ],
   "source": [
    "df_homework['Student_ID'] = df_homework['Student_ID'].str.strip()\n",
    "bad_rows = df_homework[~df_homework['Student_ID'].str.match(r'^S\\d{5}$')]\n",
    "bad_rows"
   ]
  },
  {
   "cell_type": "code",
   "execution_count": 31,
   "id": "b59b501c-7706-4441-9cf7-bb71f9c303c7",
   "metadata": {},
   "outputs": [
    {
     "data": {
      "text/plain": [
       "Student_ID            0\n",
       "Subject               0\n",
       "Assignment_Name       0\n",
       "Due_Date              0\n",
       "Status                0\n",
       "Grade_Feedback        0\n",
       "Guardian_Signature    0\n",
       "dtype: int64"
      ]
     },
     "execution_count": 31,
     "metadata": {},
     "output_type": "execute_result"
    }
   ],
   "source": [
    "df_homework.isna().sum()"
   ]
  },
  {
   "cell_type": "code",
   "execution_count": 32,
   "id": "12b0d6a8-604a-4a38-93ef-7b14fd6d5483",
   "metadata": {},
   "outputs": [
    {
     "data": {
      "text/plain": [
       "np.int64(0)"
      ]
     },
     "execution_count": 32,
     "metadata": {},
     "output_type": "execute_result"
    }
   ],
   "source": [
    "df_homework.duplicated().sum()"
   ]
  },
  {
   "cell_type": "code",
   "execution_count": 33,
   "id": "e105fb04-1e05-4edc-a43e-edfb5a0d42d4",
   "metadata": {},
   "outputs": [
    {
     "data": {
      "text/html": [
       "<div>\n",
       "<style scoped>\n",
       "    .dataframe tbody tr th:only-of-type {\n",
       "        vertical-align: middle;\n",
       "    }\n",
       "\n",
       "    .dataframe tbody tr th {\n",
       "        vertical-align: top;\n",
       "    }\n",
       "\n",
       "    .dataframe thead th {\n",
       "        text-align: right;\n",
       "    }\n",
       "</style>\n",
       "<table border=\"1\" class=\"dataframe\">\n",
       "  <thead>\n",
       "    <tr style=\"text-align: right;\">\n",
       "      <th></th>\n",
       "      <th>Student_ID</th>\n",
       "      <th>Subject</th>\n",
       "      <th>Assignment_Name</th>\n",
       "      <th>Due_Date</th>\n",
       "      <th>Status</th>\n",
       "      <th>Grade_Feedback</th>\n",
       "      <th>Guardian_Signature</th>\n",
       "    </tr>\n",
       "  </thead>\n",
       "  <tbody>\n",
       "    <tr>\n",
       "      <th>6538</th>\n",
       "      <td>S00001</td>\n",
       "      <td>Arabic</td>\n",
       "      <td>Heavy consider process report.</td>\n",
       "      <td>2024-10-02</td>\n",
       "      <td>Done</td>\n",
       "      <td>B-</td>\n",
       "      <td>Yes</td>\n",
       "    </tr>\n",
       "    <tr>\n",
       "      <th>23213</th>\n",
       "      <td>S00001</td>\n",
       "      <td>Arabic</td>\n",
       "      <td>People audience.</td>\n",
       "      <td>2024-12-30</td>\n",
       "      <td>Pending</td>\n",
       "      <td>B-</td>\n",
       "      <td>No</td>\n",
       "    </tr>\n",
       "    <tr>\n",
       "      <th>19018</th>\n",
       "      <td>S00001</td>\n",
       "      <td>English</td>\n",
       "      <td>Miss capital.</td>\n",
       "      <td>2025-01-22</td>\n",
       "      <td>Not Done</td>\n",
       "      <td>B</td>\n",
       "      <td>No</td>\n",
       "    </tr>\n",
       "    <tr>\n",
       "      <th>34572</th>\n",
       "      <td>S00002</td>\n",
       "      <td>Math</td>\n",
       "      <td>Culture claim.</td>\n",
       "      <td>2024-12-05</td>\n",
       "      <td>Pending</td>\n",
       "      <td>F</td>\n",
       "      <td>No</td>\n",
       "    </tr>\n",
       "    <tr>\n",
       "      <th>60715</th>\n",
       "      <td>S00002</td>\n",
       "      <td>History</td>\n",
       "      <td>Level somebody by everyone.</td>\n",
       "      <td>2025-01-13</td>\n",
       "      <td>Not Done</td>\n",
       "      <td>F</td>\n",
       "      <td>Unknown</td>\n",
       "    </tr>\n",
       "    <tr>\n",
       "      <th>54136</th>\n",
       "      <td>S00002</td>\n",
       "      <td>English</td>\n",
       "      <td>Wrong enter chair.</td>\n",
       "      <td>2024-12-06</td>\n",
       "      <td>Done</td>\n",
       "      <td>B-</td>\n",
       "      <td>Unknown</td>\n",
       "    </tr>\n",
       "    <tr>\n",
       "      <th>59996</th>\n",
       "      <td>S00002</td>\n",
       "      <td>Geography</td>\n",
       "      <td>Mission medical.</td>\n",
       "      <td>2025-03-06</td>\n",
       "      <td>Done</td>\n",
       "      <td>A</td>\n",
       "      <td>Unknown</td>\n",
       "    </tr>\n",
       "    <tr>\n",
       "      <th>11854</th>\n",
       "      <td>S00003</td>\n",
       "      <td>Math</td>\n",
       "      <td>General participant.</td>\n",
       "      <td>2025-01-07</td>\n",
       "      <td>Done</td>\n",
       "      <td>B</td>\n",
       "      <td>Unknown</td>\n",
       "    </tr>\n",
       "    <tr>\n",
       "      <th>53662</th>\n",
       "      <td>S00003</td>\n",
       "      <td>Math</td>\n",
       "      <td>If message by.</td>\n",
       "      <td>2024-12-09</td>\n",
       "      <td>Pending</td>\n",
       "      <td>B</td>\n",
       "      <td>No</td>\n",
       "    </tr>\n",
       "    <tr>\n",
       "      <th>36887</th>\n",
       "      <td>S00003</td>\n",
       "      <td>Math</td>\n",
       "      <td>Such lead around.</td>\n",
       "      <td>2025-02-27</td>\n",
       "      <td>Done</td>\n",
       "      <td>A+</td>\n",
       "      <td>No</td>\n",
       "    </tr>\n",
       "  </tbody>\n",
       "</table>\n",
       "</div>"
      ],
      "text/plain": [
       "      Student_ID    Subject                 Assignment_Name    Due_Date  \\\n",
       "6538      S00001     Arabic  Heavy consider process report.  2024-10-02   \n",
       "23213     S00001     Arabic                People audience.  2024-12-30   \n",
       "19018     S00001    English                   Miss capital.  2025-01-22   \n",
       "34572     S00002       Math                  Culture claim.  2024-12-05   \n",
       "60715     S00002    History     Level somebody by everyone.  2025-01-13   \n",
       "54136     S00002    English              Wrong enter chair.  2024-12-06   \n",
       "59996     S00002  Geography                Mission medical.  2025-03-06   \n",
       "11854     S00003       Math            General participant.  2025-01-07   \n",
       "53662     S00003       Math                  If message by.  2024-12-09   \n",
       "36887     S00003       Math               Such lead around.  2025-02-27   \n",
       "\n",
       "         Status Grade_Feedback Guardian_Signature  \n",
       "6538       Done             B-                Yes  \n",
       "23213   Pending             B-                 No  \n",
       "19018  Not Done              B                 No  \n",
       "34572   Pending              F                 No  \n",
       "60715  Not Done              F            Unknown  \n",
       "54136      Done             B-            Unknown  \n",
       "59996      Done              A            Unknown  \n",
       "11854      Done              B            Unknown  \n",
       "53662   Pending              B                 No  \n",
       "36887      Done             A+                 No  "
      ]
     },
     "execution_count": 33,
     "metadata": {},
     "output_type": "execute_result"
    }
   ],
   "source": [
    "df_homework.head(10)"
   ]
  },
  {
   "cell_type": "markdown",
   "id": "12b8b887-d2de-4b11-9a1d-b3b7dbac9577",
   "metadata": {},
   "source": [
    "## Performance EDA"
   ]
  },
  {
   "cell_type": "code",
   "execution_count": 34,
   "id": "4964f7c1-b03d-4fad-87d2-2bdf26aed6a2",
   "metadata": {},
   "outputs": [
    {
     "data": {
      "text/html": [
       "<div>\n",
       "<style scoped>\n",
       "    .dataframe tbody tr th:only-of-type {\n",
       "        vertical-align: middle;\n",
       "    }\n",
       "\n",
       "    .dataframe tbody tr th {\n",
       "        vertical-align: top;\n",
       "    }\n",
       "\n",
       "    .dataframe thead th {\n",
       "        text-align: right;\n",
       "    }\n",
       "</style>\n",
       "<table border=\"1\" class=\"dataframe\">\n",
       "  <thead>\n",
       "    <tr style=\"text-align: right;\">\n",
       "      <th></th>\n",
       "      <th>Student_ID</th>\n",
       "      <th>Subject</th>\n",
       "      <th>Exam_Score</th>\n",
       "      <th>Homework_Completion_%</th>\n",
       "      <th>Teacher_Comments</th>\n",
       "    </tr>\n",
       "  </thead>\n",
       "  <tbody>\n",
       "    <tr>\n",
       "      <th>34033</th>\n",
       "      <td>S00002</td>\n",
       "      <td>Arabic</td>\n",
       "      <td>69</td>\n",
       "      <td>-5</td>\n",
       "      <td>Season end color son page their begin return t...</td>\n",
       "    </tr>\n",
       "    <tr>\n",
       "      <th>19950</th>\n",
       "      <td>S00002</td>\n",
       "      <td>History</td>\n",
       "      <td>98</td>\n",
       "      <td>90</td>\n",
       "      <td>Sport beyond wait feel chair benefit section a...</td>\n",
       "    </tr>\n",
       "    <tr>\n",
       "      <th>29771</th>\n",
       "      <td>S00003</td>\n",
       "      <td>History</td>\n",
       "      <td>63</td>\n",
       "      <td>-5</td>\n",
       "      <td>Drive friend official house one approach troub...</td>\n",
       "    </tr>\n",
       "    <tr>\n",
       "      <th>33033</th>\n",
       "      <td>S00004</td>\n",
       "      <td>English</td>\n",
       "      <td>106</td>\n",
       "      <td>-5</td>\n",
       "      <td>Big everything sure identify happy church coun...</td>\n",
       "    </tr>\n",
       "    <tr>\n",
       "      <th>28150</th>\n",
       "      <td>S00004</td>\n",
       "      <td>History</td>\n",
       "      <td>59</td>\n",
       "      <td>90</td>\n",
       "      <td>Recognize tell arrive toward collection contin...</td>\n",
       "    </tr>\n",
       "    <tr>\n",
       "      <th>35530</th>\n",
       "      <td>S00005</td>\n",
       "      <td>Math</td>\n",
       "      <td>75</td>\n",
       "      <td>90</td>\n",
       "      <td>Well film deep hope gas respond write return a...</td>\n",
       "    </tr>\n",
       "    <tr>\n",
       "      <th>28340</th>\n",
       "      <td>S00005</td>\n",
       "      <td>History</td>\n",
       "      <td>78</td>\n",
       "      <td>80%</td>\n",
       "      <td>Eat garden affect it wide increase total cold ...</td>\n",
       "    </tr>\n",
       "    <tr>\n",
       "      <th>9290</th>\n",
       "      <td>S00005</td>\n",
       "      <td>Math</td>\n",
       "      <td>75</td>\n",
       "      <td>-5</td>\n",
       "      <td>Hold size remain day near sell player.</td>\n",
       "    </tr>\n",
       "    <tr>\n",
       "      <th>10108</th>\n",
       "      <td>S00005</td>\n",
       "      <td>English</td>\n",
       "      <td>78</td>\n",
       "      <td>90</td>\n",
       "      <td>Program control high part soldier edge any gar...</td>\n",
       "    </tr>\n",
       "    <tr>\n",
       "      <th>34836</th>\n",
       "      <td>S00005</td>\n",
       "      <td>Arabic</td>\n",
       "      <td>71</td>\n",
       "      <td>-5</td>\n",
       "      <td>Individual hit rule no consumer single season ...</td>\n",
       "    </tr>\n",
       "  </tbody>\n",
       "</table>\n",
       "</div>"
      ],
      "text/plain": [
       "      Student_ID  Subject  Exam_Score Homework_Completion_%  \\\n",
       "34033     S00002   Arabic          69                    -5   \n",
       "19950     S00002  History          98                    90   \n",
       "29771     S00003  History          63                    -5   \n",
       "33033     S00004  English         106                    -5   \n",
       "28150     S00004  History          59                    90   \n",
       "35530     S00005     Math          75                    90   \n",
       "28340     S00005  History          78                   80%   \n",
       "9290      S00005     Math          75                    -5   \n",
       "10108     S00005  English          78                    90   \n",
       "34836     S00005   Arabic          71                    -5   \n",
       "\n",
       "                                        Teacher_Comments  \n",
       "34033  Season end color son page their begin return t...  \n",
       "19950  Sport beyond wait feel chair benefit section a...  \n",
       "29771  Drive friend official house one approach troub...  \n",
       "33033  Big everything sure identify happy church coun...  \n",
       "28150  Recognize tell arrive toward collection contin...  \n",
       "35530  Well film deep hope gas respond write return a...  \n",
       "28340  Eat garden affect it wide increase total cold ...  \n",
       "9290              Hold size remain day near sell player.  \n",
       "10108  Program control high part soldier edge any gar...  \n",
       "34836  Individual hit rule no consumer single season ...  "
      ]
     },
     "execution_count": 34,
     "metadata": {},
     "output_type": "execute_result"
    }
   ],
   "source": [
    "df_performance.sort_values('Student_ID', ascending = True, inplace = True)\n",
    "df_performance.head(10)"
   ]
  },
  {
   "cell_type": "code",
   "execution_count": 35,
   "id": "4903c470-aa70-4842-a521-c5c554bd9ad6",
   "metadata": {},
   "outputs": [
    {
     "name": "stdout",
     "output_type": "stream",
     "text": [
      "<class 'pandas.core.frame.DataFrame'>\n",
      "Index: 36468 entries, 34033 to 9147\n",
      "Data columns (total 5 columns):\n",
      " #   Column                 Non-Null Count  Dtype \n",
      "---  ------                 --------------  ----- \n",
      " 0   Student_ID             36468 non-null  object\n",
      " 1   Subject                36468 non-null  object\n",
      " 2   Exam_Score             36468 non-null  int64 \n",
      " 3   Homework_Completion_%  36468 non-null  object\n",
      " 4   Teacher_Comments       36468 non-null  object\n",
      "dtypes: int64(1), object(4)\n",
      "memory usage: 1.7+ MB\n"
     ]
    }
   ],
   "source": [
    "df_performance.info()"
   ]
  },
  {
   "cell_type": "code",
   "execution_count": 36,
   "id": "f7bcec63-097b-47ce-9611-07b8502afb87",
   "metadata": {},
   "outputs": [
    {
     "data": {
      "text/plain": [
       "Subject\n",
       "Arabic       6224\n",
       "Science      6093\n",
       "Geography    6082\n",
       "English      6043\n",
       "Math         6035\n",
       "History      5991\n",
       "Name: count, dtype: int64"
      ]
     },
     "execution_count": 36,
     "metadata": {},
     "output_type": "execute_result"
    }
   ],
   "source": [
    "df_performance['Subject'].value_counts()"
   ]
  },
  {
   "cell_type": "code",
   "execution_count": 37,
   "id": "562e9d7c-ddf5-45b4-aea7-704aa31543b7",
   "metadata": {},
   "outputs": [],
   "source": [
    "df_performance.rename(columns={'Homework_Completion_%':'Homework_Completion_Percentage'}, inplace = True)"
   ]
  },
  {
   "cell_type": "code",
   "execution_count": 38,
   "id": "161dbad3-9b88-4b8f-8dea-40e6820cb8bd",
   "metadata": {},
   "outputs": [
    {
     "data": {
      "text/plain": [
       "Homework_Completion_Percentage\n",
       "95      7453\n",
       "-5      7376\n",
       "100%    7296\n",
       "80%     7283\n",
       "90      7060\n",
       "Name: count, dtype: int64"
      ]
     },
     "execution_count": 38,
     "metadata": {},
     "output_type": "execute_result"
    }
   ],
   "source": [
    "df_performance['Homework_Completion_Percentage'].value_counts()"
   ]
  },
  {
   "cell_type": "code",
   "execution_count": 39,
   "id": "36901c12-3b02-48ec-9f82-688d61bce4f0",
   "metadata": {},
   "outputs": [
    {
     "data": {
      "text/plain": [
       "Homework_Completion_Percentage\n",
       "95     7453\n",
       "0      7376\n",
       "100    7296\n",
       "80     7283\n",
       "90     7060\n",
       "Name: count, dtype: int64"
      ]
     },
     "execution_count": 39,
     "metadata": {},
     "output_type": "execute_result"
    }
   ],
   "source": [
    "df_performance['Homework_Completion_Percentage'] = df_performance['Homework_Completion_Percentage'].replace({'-5':'0','100%':'100','80%':'80'})\n",
    "df_performance['Homework_Completion_Percentage'].value_counts()"
   ]
  },
  {
   "cell_type": "code",
   "execution_count": 40,
   "id": "5452bce4-bb9b-468e-bfe7-ccc0843ed5d4",
   "metadata": {},
   "outputs": [],
   "source": [
    "df_performance['Homework_Completion_Percentage'] = df_performance['Homework_Completion_Percentage'].astype(int)"
   ]
  },
  {
   "cell_type": "code",
   "execution_count": 41,
   "id": "8bed40a6-0782-4e02-8060-7fa259a51aa7",
   "metadata": {},
   "outputs": [
    {
     "data": {
      "text/html": [
       "<div>\n",
       "<style scoped>\n",
       "    .dataframe tbody tr th:only-of-type {\n",
       "        vertical-align: middle;\n",
       "    }\n",
       "\n",
       "    .dataframe tbody tr th {\n",
       "        vertical-align: top;\n",
       "    }\n",
       "\n",
       "    .dataframe thead th {\n",
       "        text-align: right;\n",
       "    }\n",
       "</style>\n",
       "<table border=\"1\" class=\"dataframe\">\n",
       "  <thead>\n",
       "    <tr style=\"text-align: right;\">\n",
       "      <th></th>\n",
       "      <th>Student_ID</th>\n",
       "      <th>Subject</th>\n",
       "      <th>Exam_Score</th>\n",
       "      <th>Homework_Completion_Percentage</th>\n",
       "      <th>Teacher_Comments</th>\n",
       "    </tr>\n",
       "  </thead>\n",
       "  <tbody>\n",
       "  </tbody>\n",
       "</table>\n",
       "</div>"
      ],
      "text/plain": [
       "Empty DataFrame\n",
       "Columns: [Student_ID, Subject, Exam_Score, Homework_Completion_Percentage, Teacher_Comments]\n",
       "Index: []"
      ]
     },
     "execution_count": 41,
     "metadata": {},
     "output_type": "execute_result"
    }
   ],
   "source": [
    "df_performance['Student_ID'] = df_performance['Student_ID'].str.strip()\n",
    "bad_rows = df_performance[~df_performance['Student_ID'].str.match(r'^S\\d{5}$')]\n",
    "bad_rows"
   ]
  },
  {
   "cell_type": "code",
   "execution_count": 42,
   "id": "699e03a8-3e8b-407f-ba97-aad470576e85",
   "metadata": {},
   "outputs": [
    {
     "data": {
      "text/plain": [
       "Student_ID                        0\n",
       "Subject                           0\n",
       "Exam_Score                        0\n",
       "Homework_Completion_Percentage    0\n",
       "Teacher_Comments                  0\n",
       "dtype: int64"
      ]
     },
     "execution_count": 42,
     "metadata": {},
     "output_type": "execute_result"
    }
   ],
   "source": [
    "df_performance.isna().sum()"
   ]
  },
  {
   "cell_type": "code",
   "execution_count": 43,
   "id": "ec45fa58-4e77-4da6-ac2d-50663e6911c6",
   "metadata": {},
   "outputs": [
    {
     "data": {
      "text/plain": [
       "np.int64(0)"
      ]
     },
     "execution_count": 43,
     "metadata": {},
     "output_type": "execute_result"
    }
   ],
   "source": [
    "df_performance.duplicated().sum()"
   ]
  },
  {
   "cell_type": "code",
   "execution_count": 44,
   "id": "185cc0e8-2b4e-4ce9-8646-b8b9ed121f3f",
   "metadata": {},
   "outputs": [
    {
     "name": "stdout",
     "output_type": "stream",
     "text": [
      "<class 'pandas.core.frame.DataFrame'>\n",
      "Index: 36468 entries, 34033 to 9147\n",
      "Data columns (total 5 columns):\n",
      " #   Column                          Non-Null Count  Dtype \n",
      "---  ------                          --------------  ----- \n",
      " 0   Student_ID                      36468 non-null  object\n",
      " 1   Subject                         36468 non-null  object\n",
      " 2   Exam_Score                      36468 non-null  int64 \n",
      " 3   Homework_Completion_Percentage  36468 non-null  int64 \n",
      " 4   Teacher_Comments                36468 non-null  object\n",
      "dtypes: int64(2), object(3)\n",
      "memory usage: 1.7+ MB\n"
     ]
    }
   ],
   "source": [
    "df_performance.info()"
   ]
  },
  {
   "cell_type": "code",
   "execution_count": 45,
   "id": "65be0902-6533-437b-8797-2b0edd2cbb3c",
   "metadata": {},
   "outputs": [
    {
     "data": {
      "text/html": [
       "<div>\n",
       "<style scoped>\n",
       "    .dataframe tbody tr th:only-of-type {\n",
       "        vertical-align: middle;\n",
       "    }\n",
       "\n",
       "    .dataframe tbody tr th {\n",
       "        vertical-align: top;\n",
       "    }\n",
       "\n",
       "    .dataframe thead th {\n",
       "        text-align: right;\n",
       "    }\n",
       "</style>\n",
       "<table border=\"1\" class=\"dataframe\">\n",
       "  <thead>\n",
       "    <tr style=\"text-align: right;\">\n",
       "      <th></th>\n",
       "      <th>Student_ID</th>\n",
       "      <th>Subject</th>\n",
       "      <th>Exam_Score</th>\n",
       "      <th>Homework_Completion_Percentage</th>\n",
       "      <th>Teacher_Comments</th>\n",
       "    </tr>\n",
       "  </thead>\n",
       "  <tbody>\n",
       "    <tr>\n",
       "      <th>34033</th>\n",
       "      <td>S00002</td>\n",
       "      <td>Arabic</td>\n",
       "      <td>69</td>\n",
       "      <td>0</td>\n",
       "      <td>Season end color son page their begin return t...</td>\n",
       "    </tr>\n",
       "    <tr>\n",
       "      <th>19950</th>\n",
       "      <td>S00002</td>\n",
       "      <td>History</td>\n",
       "      <td>98</td>\n",
       "      <td>90</td>\n",
       "      <td>Sport beyond wait feel chair benefit section a...</td>\n",
       "    </tr>\n",
       "    <tr>\n",
       "      <th>29771</th>\n",
       "      <td>S00003</td>\n",
       "      <td>History</td>\n",
       "      <td>63</td>\n",
       "      <td>0</td>\n",
       "      <td>Drive friend official house one approach troub...</td>\n",
       "    </tr>\n",
       "    <tr>\n",
       "      <th>33033</th>\n",
       "      <td>S00004</td>\n",
       "      <td>English</td>\n",
       "      <td>106</td>\n",
       "      <td>0</td>\n",
       "      <td>Big everything sure identify happy church coun...</td>\n",
       "    </tr>\n",
       "    <tr>\n",
       "      <th>28150</th>\n",
       "      <td>S00004</td>\n",
       "      <td>History</td>\n",
       "      <td>59</td>\n",
       "      <td>90</td>\n",
       "      <td>Recognize tell arrive toward collection contin...</td>\n",
       "    </tr>\n",
       "    <tr>\n",
       "      <th>35530</th>\n",
       "      <td>S00005</td>\n",
       "      <td>Math</td>\n",
       "      <td>75</td>\n",
       "      <td>90</td>\n",
       "      <td>Well film deep hope gas respond write return a...</td>\n",
       "    </tr>\n",
       "    <tr>\n",
       "      <th>28340</th>\n",
       "      <td>S00005</td>\n",
       "      <td>History</td>\n",
       "      <td>78</td>\n",
       "      <td>80</td>\n",
       "      <td>Eat garden affect it wide increase total cold ...</td>\n",
       "    </tr>\n",
       "    <tr>\n",
       "      <th>9290</th>\n",
       "      <td>S00005</td>\n",
       "      <td>Math</td>\n",
       "      <td>75</td>\n",
       "      <td>0</td>\n",
       "      <td>Hold size remain day near sell player.</td>\n",
       "    </tr>\n",
       "    <tr>\n",
       "      <th>10108</th>\n",
       "      <td>S00005</td>\n",
       "      <td>English</td>\n",
       "      <td>78</td>\n",
       "      <td>90</td>\n",
       "      <td>Program control high part soldier edge any gar...</td>\n",
       "    </tr>\n",
       "    <tr>\n",
       "      <th>34836</th>\n",
       "      <td>S00005</td>\n",
       "      <td>Arabic</td>\n",
       "      <td>71</td>\n",
       "      <td>0</td>\n",
       "      <td>Individual hit rule no consumer single season ...</td>\n",
       "    </tr>\n",
       "  </tbody>\n",
       "</table>\n",
       "</div>"
      ],
      "text/plain": [
       "      Student_ID  Subject  Exam_Score  Homework_Completion_Percentage  \\\n",
       "34033     S00002   Arabic          69                               0   \n",
       "19950     S00002  History          98                              90   \n",
       "29771     S00003  History          63                               0   \n",
       "33033     S00004  English         106                               0   \n",
       "28150     S00004  History          59                              90   \n",
       "35530     S00005     Math          75                              90   \n",
       "28340     S00005  History          78                              80   \n",
       "9290      S00005     Math          75                               0   \n",
       "10108     S00005  English          78                              90   \n",
       "34836     S00005   Arabic          71                               0   \n",
       "\n",
       "                                        Teacher_Comments  \n",
       "34033  Season end color son page their begin return t...  \n",
       "19950  Sport beyond wait feel chair benefit section a...  \n",
       "29771  Drive friend official house one approach troub...  \n",
       "33033  Big everything sure identify happy church coun...  \n",
       "28150  Recognize tell arrive toward collection contin...  \n",
       "35530  Well film deep hope gas respond write return a...  \n",
       "28340  Eat garden affect it wide increase total cold ...  \n",
       "9290              Hold size remain day near sell player.  \n",
       "10108  Program control high part soldier edge any gar...  \n",
       "34836  Individual hit rule no consumer single season ...  "
      ]
     },
     "execution_count": 45,
     "metadata": {},
     "output_type": "execute_result"
    }
   ],
   "source": [
    "df_performance.head(10)"
   ]
  },
  {
   "cell_type": "markdown",
   "id": "d4602b00-7062-485f-bbdd-346fd9c8be0e",
   "metadata": {},
   "source": [
    "## Students EDA "
   ]
  },
  {
   "cell_type": "code",
   "execution_count": 46,
   "id": "3f22204c-fba6-4ac8-83ca-d302136fa2ce",
   "metadata": {},
   "outputs": [
    {
     "data": {
      "text/html": [
       "<div>\n",
       "<style scoped>\n",
       "    .dataframe tbody tr th:only-of-type {\n",
       "        vertical-align: middle;\n",
       "    }\n",
       "\n",
       "    .dataframe tbody tr th {\n",
       "        vertical-align: top;\n",
       "    }\n",
       "\n",
       "    .dataframe thead th {\n",
       "        text-align: right;\n",
       "    }\n",
       "</style>\n",
       "<table border=\"1\" class=\"dataframe\">\n",
       "  <thead>\n",
       "    <tr style=\"text-align: right;\">\n",
       "      <th></th>\n",
       "      <th>Student_ID</th>\n",
       "      <th>Full_Name</th>\n",
       "      <th>Date_of_Birth</th>\n",
       "      <th>Grade_Level</th>\n",
       "      <th>Emergency_Contact</th>\n",
       "    </tr>\n",
       "  </thead>\n",
       "  <tbody>\n",
       "    <tr>\n",
       "      <th>0</th>\n",
       "      <td>S00001</td>\n",
       "      <td>Donna Williams</td>\n",
       "      <td>2007-02-10</td>\n",
       "      <td>Grade 3</td>\n",
       "      <td>781-534-4258x9046</td>\n",
       "    </tr>\n",
       "    <tr>\n",
       "      <th>1</th>\n",
       "      <td>S00002</td>\n",
       "      <td>John Stafford</td>\n",
       "      <td>2014-11-26</td>\n",
       "      <td>Grade 5</td>\n",
       "      <td>+1-782-691-6291x99704</td>\n",
       "    </tr>\n",
       "    <tr>\n",
       "      <th>2</th>\n",
       "      <td>S00003</td>\n",
       "      <td>Chad Harper</td>\n",
       "      <td>2017-02-07</td>\n",
       "      <td>Grade 3</td>\n",
       "      <td>308.517.3750</td>\n",
       "    </tr>\n",
       "    <tr>\n",
       "      <th>3</th>\n",
       "      <td>S00004</td>\n",
       "      <td>Anthony Martin</td>\n",
       "      <td>11-10-2014</td>\n",
       "      <td>Grade 5</td>\n",
       "      <td>306-771-1524x116</td>\n",
       "    </tr>\n",
       "    <tr>\n",
       "      <th>4</th>\n",
       "      <td>S00005</td>\n",
       "      <td>Mary Stone</td>\n",
       "      <td>04-01-2016</td>\n",
       "      <td>Grade 3</td>\n",
       "      <td>+1-794-484-8495x7772</td>\n",
       "    </tr>\n",
       "    <tr>\n",
       "      <th>5</th>\n",
       "      <td>S00006</td>\n",
       "      <td>Joe Wells</td>\n",
       "      <td>2017-06-29</td>\n",
       "      <td>Grade 2</td>\n",
       "      <td>+1-933-864-5644x501</td>\n",
       "    </tr>\n",
       "    <tr>\n",
       "      <th>6</th>\n",
       "      <td>S00007</td>\n",
       "      <td>Margaret Nixon</td>\n",
       "      <td>2009-12-04</td>\n",
       "      <td>Grade 4</td>\n",
       "      <td>706.708.0421x412</td>\n",
       "    </tr>\n",
       "    <tr>\n",
       "      <th>7</th>\n",
       "      <td>S00008</td>\n",
       "      <td>James Wheeler</td>\n",
       "      <td>2011-01-25</td>\n",
       "      <td>Grade 1</td>\n",
       "      <td>(605)818-0057x877</td>\n",
       "    </tr>\n",
       "    <tr>\n",
       "      <th>8</th>\n",
       "      <td>S00009</td>\n",
       "      <td>Benjamin Cook</td>\n",
       "      <td>2007-10-04</td>\n",
       "      <td>Grade 4</td>\n",
       "      <td>(489)503-7511x611</td>\n",
       "    </tr>\n",
       "    <tr>\n",
       "      <th>9</th>\n",
       "      <td>S00010</td>\n",
       "      <td>Aaron Callahan</td>\n",
       "      <td>2012-02-18</td>\n",
       "      <td>Grade 4</td>\n",
       "      <td>NaN</td>\n",
       "    </tr>\n",
       "  </tbody>\n",
       "</table>\n",
       "</div>"
      ],
      "text/plain": [
       "  Student_ID       Full_Name Date_of_Birth Grade_Level      Emergency_Contact\n",
       "0     S00001  Donna Williams    2007-02-10     Grade 3      781-534-4258x9046\n",
       "1     S00002   John Stafford    2014-11-26     Grade 5  +1-782-691-6291x99704\n",
       "2     S00003     Chad Harper    2017-02-07     Grade 3           308.517.3750\n",
       "3     S00004  Anthony Martin    11-10-2014     Grade 5       306-771-1524x116\n",
       "4     S00005      Mary Stone    04-01-2016     Grade 3   +1-794-484-8495x7772\n",
       "5     S00006       Joe Wells    2017-06-29     Grade 2    +1-933-864-5644x501\n",
       "6     S00007  Margaret Nixon    2009-12-04     Grade 4       706.708.0421x412\n",
       "7     S00008   James Wheeler    2011-01-25     Grade 1      (605)818-0057x877\n",
       "8     S00009   Benjamin Cook    2007-10-04     Grade 4      (489)503-7511x611\n",
       "9     S00010  Aaron Callahan    2012-02-18     Grade 4                    NaN"
      ]
     },
     "execution_count": 46,
     "metadata": {},
     "output_type": "execute_result"
    }
   ],
   "source": [
    "df_students.sort_values('Student_ID', ascending = True, inplace = True)\n",
    "df_students.head(10)"
   ]
  },
  {
   "cell_type": "code",
   "execution_count": 47,
   "id": "a2f79b4e-5ae5-4cbe-8946-b80444e7b1a4",
   "metadata": {},
   "outputs": [
    {
     "name": "stdout",
     "output_type": "stream",
     "text": [
      "<class 'pandas.core.frame.DataFrame'>\n",
      "RangeIndex: 12156 entries, 0 to 12155\n",
      "Data columns (total 5 columns):\n",
      " #   Column             Non-Null Count  Dtype \n",
      "---  ------             --------------  ----- \n",
      " 0   Student_ID         12156 non-null  object\n",
      " 1   Full_Name          12156 non-null  object\n",
      " 2   Date_of_Birth      12156 non-null  object\n",
      " 3   Grade_Level        12156 non-null  object\n",
      " 4   Emergency_Contact  11538 non-null  object\n",
      "dtypes: object(5)\n",
      "memory usage: 475.0+ KB\n"
     ]
    }
   ],
   "source": [
    "df_students.info()"
   ]
  },
  {
   "cell_type": "code",
   "execution_count": 49,
   "id": "5b218293-3575-42fd-831e-1d64da5638a7",
   "metadata": {},
   "outputs": [
    {
     "data": {
      "text/html": [
       "<div>\n",
       "<style scoped>\n",
       "    .dataframe tbody tr th:only-of-type {\n",
       "        vertical-align: middle;\n",
       "    }\n",
       "\n",
       "    .dataframe tbody tr th {\n",
       "        vertical-align: top;\n",
       "    }\n",
       "\n",
       "    .dataframe thead th {\n",
       "        text-align: right;\n",
       "    }\n",
       "</style>\n",
       "<table border=\"1\" class=\"dataframe\">\n",
       "  <thead>\n",
       "    <tr style=\"text-align: right;\">\n",
       "      <th></th>\n",
       "      <th>Student_ID</th>\n",
       "      <th>Full_Name</th>\n",
       "      <th>Date_of_Birth</th>\n",
       "      <th>Grade_Level</th>\n",
       "      <th>Emergency_Contact</th>\n",
       "    </tr>\n",
       "  </thead>\n",
       "  <tbody>\n",
       "    <tr>\n",
       "      <th>3</th>\n",
       "      <td>S00004</td>\n",
       "      <td>Anthony Martin</td>\n",
       "      <td>11-10-2014</td>\n",
       "      <td>Grade 5</td>\n",
       "      <td>306-771-1524x116</td>\n",
       "    </tr>\n",
       "    <tr>\n",
       "      <th>4</th>\n",
       "      <td>S00005</td>\n",
       "      <td>Mary Stone</td>\n",
       "      <td>04-01-2016</td>\n",
       "      <td>Grade 3</td>\n",
       "      <td>+1-794-484-8495x7772</td>\n",
       "    </tr>\n",
       "    <tr>\n",
       "      <th>22</th>\n",
       "      <td>S00023</td>\n",
       "      <td>Justin Sandoval</td>\n",
       "      <td>05-22-2016</td>\n",
       "      <td>Grade 1</td>\n",
       "      <td>898-679-5228</td>\n",
       "    </tr>\n",
       "    <tr>\n",
       "      <th>37</th>\n",
       "      <td>S00038</td>\n",
       "      <td>Brandi Carroll</td>\n",
       "      <td>04-09-2018</td>\n",
       "      <td>Grade 1</td>\n",
       "      <td>(939)450-3967x848</td>\n",
       "    </tr>\n",
       "    <tr>\n",
       "      <th>44</th>\n",
       "      <td>S00045</td>\n",
       "      <td>Melanie Martinez</td>\n",
       "      <td>07-03-2011</td>\n",
       "      <td>Grade 5</td>\n",
       "      <td>(733)606-6480</td>\n",
       "    </tr>\n",
       "    <tr>\n",
       "      <th>...</th>\n",
       "      <td>...</td>\n",
       "      <td>...</td>\n",
       "      <td>...</td>\n",
       "      <td>...</td>\n",
       "      <td>...</td>\n",
       "    </tr>\n",
       "    <tr>\n",
       "      <th>12080</th>\n",
       "      <td>S12081</td>\n",
       "      <td>Brian Evans</td>\n",
       "      <td>05-30-2015</td>\n",
       "      <td>Grade 3</td>\n",
       "      <td>3304048981</td>\n",
       "    </tr>\n",
       "    <tr>\n",
       "      <th>12111</th>\n",
       "      <td>S12112</td>\n",
       "      <td>Susan Durham</td>\n",
       "      <td>12-02-2011</td>\n",
       "      <td>Grade 2</td>\n",
       "      <td>+1-881-979-6451x79652</td>\n",
       "    </tr>\n",
       "    <tr>\n",
       "      <th>12112</th>\n",
       "      <td>S12113</td>\n",
       "      <td>Duane Morse</td>\n",
       "      <td>09-11-2010</td>\n",
       "      <td>Grade 4</td>\n",
       "      <td>(218)728-4504</td>\n",
       "    </tr>\n",
       "    <tr>\n",
       "      <th>12113</th>\n",
       "      <td>S12114</td>\n",
       "      <td>Kyle White</td>\n",
       "      <td>06-24-2008</td>\n",
       "      <td>Grade 5</td>\n",
       "      <td>684-400-0737</td>\n",
       "    </tr>\n",
       "    <tr>\n",
       "      <th>12137</th>\n",
       "      <td>S12138</td>\n",
       "      <td>Keith Wood</td>\n",
       "      <td>01-17-2015</td>\n",
       "      <td>Grade 2</td>\n",
       "      <td>625.766.1101</td>\n",
       "    </tr>\n",
       "  </tbody>\n",
       "</table>\n",
       "<p>1205 rows × 5 columns</p>\n",
       "</div>"
      ],
      "text/plain": [
       "      Student_ID         Full_Name Date_of_Birth Grade_Level  \\\n",
       "3         S00004    Anthony Martin    11-10-2014     Grade 5   \n",
       "4         S00005        Mary Stone    04-01-2016     Grade 3   \n",
       "22        S00023   Justin Sandoval    05-22-2016     Grade 1   \n",
       "37        S00038    Brandi Carroll    04-09-2018     Grade 1   \n",
       "44        S00045  Melanie Martinez    07-03-2011     Grade 5   \n",
       "...          ...               ...           ...         ...   \n",
       "12080     S12081       Brian Evans    05-30-2015     Grade 3   \n",
       "12111     S12112      Susan Durham    12-02-2011     Grade 2   \n",
       "12112     S12113       Duane Morse    09-11-2010     Grade 4   \n",
       "12113     S12114        Kyle White    06-24-2008     Grade 5   \n",
       "12137     S12138        Keith Wood    01-17-2015     Grade 2   \n",
       "\n",
       "           Emergency_Contact  \n",
       "3           306-771-1524x116  \n",
       "4       +1-794-484-8495x7772  \n",
       "22              898-679-5228  \n",
       "37         (939)450-3967x848  \n",
       "44             (733)606-6480  \n",
       "...                      ...  \n",
       "12080             3304048981  \n",
       "12111  +1-881-979-6451x79652  \n",
       "12112          (218)728-4504  \n",
       "12113           684-400-0737  \n",
       "12137           625.766.1101  \n",
       "\n",
       "[1205 rows x 5 columns]"
      ]
     },
     "execution_count": 49,
     "metadata": {},
     "output_type": "execute_result"
    }
   ],
   "source": [
    "df_students['Date_of_Birth'] = df_students['Date_of_Birth'].str.strip()\n",
    "bad_rows = df_students[~df_students['Date_of_Birth'].str.match(r'^\\d{4}-\\d{2}-\\d{2}')]\n",
    "bad_rows"
   ]
  },
  {
   "cell_type": "code",
   "execution_count": 50,
   "id": "c4dedb25-575b-45e1-8b52-7b123fa5acf4",
   "metadata": {},
   "outputs": [
    {
     "data": {
      "text/html": [
       "<div>\n",
       "<style scoped>\n",
       "    .dataframe tbody tr th:only-of-type {\n",
       "        vertical-align: middle;\n",
       "    }\n",
       "\n",
       "    .dataframe tbody tr th {\n",
       "        vertical-align: top;\n",
       "    }\n",
       "\n",
       "    .dataframe thead th {\n",
       "        text-align: right;\n",
       "    }\n",
       "</style>\n",
       "<table border=\"1\" class=\"dataframe\">\n",
       "  <thead>\n",
       "    <tr style=\"text-align: right;\">\n",
       "      <th></th>\n",
       "      <th>Student_ID</th>\n",
       "      <th>Full_Name</th>\n",
       "      <th>Date_of_Birth</th>\n",
       "      <th>Grade_Level</th>\n",
       "      <th>Emergency_Contact</th>\n",
       "    </tr>\n",
       "  </thead>\n",
       "  <tbody>\n",
       "  </tbody>\n",
       "</table>\n",
       "</div>"
      ],
      "text/plain": [
       "Empty DataFrame\n",
       "Columns: [Student_ID, Full_Name, Date_of_Birth, Grade_Level, Emergency_Contact]\n",
       "Index: []"
      ]
     },
     "execution_count": 50,
     "metadata": {},
     "output_type": "execute_result"
    }
   ],
   "source": [
    "df_students['Date_of_Birth'] = df_students['Date_of_Birth'].str.replace(r'^(\\d{2})-(\\d{2})-(\\d{4})$', r'\\3-\\1-\\2', regex=True)\n",
    "bad_rows = df_students[~df_students['Date_of_Birth'].str.match(r'^\\d{4}-\\d{2}-\\d{2}')]\n",
    "bad_rows"
   ]
  },
  {
   "cell_type": "code",
   "execution_count": 61,
   "id": "921f0987-7c38-4b28-8221-ac8260c41c4a",
   "metadata": {},
   "outputs": [
    {
     "data": {
      "text/html": [
       "<div>\n",
       "<style scoped>\n",
       "    .dataframe tbody tr th:only-of-type {\n",
       "        vertical-align: middle;\n",
       "    }\n",
       "\n",
       "    .dataframe tbody tr th {\n",
       "        vertical-align: top;\n",
       "    }\n",
       "\n",
       "    .dataframe thead th {\n",
       "        text-align: right;\n",
       "    }\n",
       "</style>\n",
       "<table border=\"1\" class=\"dataframe\">\n",
       "  <thead>\n",
       "    <tr style=\"text-align: right;\">\n",
       "      <th></th>\n",
       "      <th>Student_ID</th>\n",
       "      <th>Full_Name</th>\n",
       "      <th>Date_of_Birth</th>\n",
       "      <th>Grade_Level</th>\n",
       "      <th>Emergency_Contact</th>\n",
       "    </tr>\n",
       "  </thead>\n",
       "  <tbody>\n",
       "  </tbody>\n",
       "</table>\n",
       "</div>"
      ],
      "text/plain": [
       "Empty DataFrame\n",
       "Columns: [Student_ID, Full_Name, Date_of_Birth, Grade_Level, Emergency_Contact]\n",
       "Index: []"
      ]
     },
     "execution_count": 61,
     "metadata": {},
     "output_type": "execute_result"
    }
   ],
   "source": [
    "df_students['Student_ID'] = df_students['Student_ID'].str.strip()\n",
    "bad_rows = df_students[~df_students['Student_ID'].str.match(r'^S\\d{5}$')]\n",
    "bad_rows"
   ]
  },
  {
   "cell_type": "code",
   "execution_count": 51,
   "id": "0ef20241-40b4-4492-b811-379aef4e8940",
   "metadata": {},
   "outputs": [
    {
     "data": {
      "text/plain": [
       "Grade_Level\n",
       "Grade 5    2472\n",
       "Grade 4    2454\n",
       "Grade 3    2447\n",
       "Grade 2    2400\n",
       "Grade 1    2383\n",
       "Name: count, dtype: int64"
      ]
     },
     "execution_count": 51,
     "metadata": {},
     "output_type": "execute_result"
    }
   ],
   "source": [
    "df_students['Grade_Level'].value_counts()"
   ]
  },
  {
   "cell_type": "code",
   "execution_count": 52,
   "id": "5458b321-6131-419b-abc9-61ae7fb36dd3",
   "metadata": {},
   "outputs": [],
   "source": [
    "df_students['Emergency_Contact'] = df_students['Emergency_Contact'].str.strip()\n",
    "df_students['Emergency_Contact'] = df_students['Emergency_Contact'].str.replace(r'\\D', '', regex=True)         \n",
    "df_students['Emergency_Contact'] = df_students['Emergency_Contact'].str[-10:]\n",
    "df_students['Emergency_Contact'] = df_students['Emergency_Contact'].str.replace(r'(\\d{3})(\\d{3})(\\d{4})', r'\\1-\\2-\\3', regex=True)                            "
   ]
  },
  {
   "cell_type": "code",
   "execution_count": 53,
   "id": "b14eb253-50b3-4ead-ae33-2f5df0c7ebe0",
   "metadata": {},
   "outputs": [
    {
     "data": {
      "text/html": [
       "<div>\n",
       "<style scoped>\n",
       "    .dataframe tbody tr th:only-of-type {\n",
       "        vertical-align: middle;\n",
       "    }\n",
       "\n",
       "    .dataframe tbody tr th {\n",
       "        vertical-align: top;\n",
       "    }\n",
       "\n",
       "    .dataframe thead th {\n",
       "        text-align: right;\n",
       "    }\n",
       "</style>\n",
       "<table border=\"1\" class=\"dataframe\">\n",
       "  <thead>\n",
       "    <tr style=\"text-align: right;\">\n",
       "      <th></th>\n",
       "      <th>Student_ID</th>\n",
       "      <th>Full_Name</th>\n",
       "      <th>Date_of_Birth</th>\n",
       "      <th>Grade_Level</th>\n",
       "      <th>Emergency_Contact</th>\n",
       "    </tr>\n",
       "  </thead>\n",
       "  <tbody>\n",
       "    <tr>\n",
       "      <th>0</th>\n",
       "      <td>S00001</td>\n",
       "      <td>Donna Williams</td>\n",
       "      <td>2007-02-10</td>\n",
       "      <td>Grade 3</td>\n",
       "      <td>344-258-9046</td>\n",
       "    </tr>\n",
       "    <tr>\n",
       "      <th>1</th>\n",
       "      <td>S00002</td>\n",
       "      <td>John Stafford</td>\n",
       "      <td>2014-11-26</td>\n",
       "      <td>Grade 5</td>\n",
       "      <td>162-919-9704</td>\n",
       "    </tr>\n",
       "    <tr>\n",
       "      <th>2</th>\n",
       "      <td>S00003</td>\n",
       "      <td>Chad Harper</td>\n",
       "      <td>2017-02-07</td>\n",
       "      <td>Grade 3</td>\n",
       "      <td>308-517-3750</td>\n",
       "    </tr>\n",
       "    <tr>\n",
       "      <th>3</th>\n",
       "      <td>S00004</td>\n",
       "      <td>Anthony Martin</td>\n",
       "      <td>2014-11-10</td>\n",
       "      <td>Grade 5</td>\n",
       "      <td>771-152-4116</td>\n",
       "    </tr>\n",
       "    <tr>\n",
       "      <th>4</th>\n",
       "      <td>S00005</td>\n",
       "      <td>Mary Stone</td>\n",
       "      <td>2016-04-01</td>\n",
       "      <td>Grade 3</td>\n",
       "      <td>848-495-7772</td>\n",
       "    </tr>\n",
       "    <tr>\n",
       "      <th>5</th>\n",
       "      <td>S00006</td>\n",
       "      <td>Joe Wells</td>\n",
       "      <td>2017-06-29</td>\n",
       "      <td>Grade 2</td>\n",
       "      <td>864-564-4501</td>\n",
       "    </tr>\n",
       "    <tr>\n",
       "      <th>6</th>\n",
       "      <td>S00007</td>\n",
       "      <td>Margaret Nixon</td>\n",
       "      <td>2009-12-04</td>\n",
       "      <td>Grade 4</td>\n",
       "      <td>708-042-1412</td>\n",
       "    </tr>\n",
       "    <tr>\n",
       "      <th>7</th>\n",
       "      <td>S00008</td>\n",
       "      <td>James Wheeler</td>\n",
       "      <td>2011-01-25</td>\n",
       "      <td>Grade 1</td>\n",
       "      <td>818-005-7877</td>\n",
       "    </tr>\n",
       "    <tr>\n",
       "      <th>8</th>\n",
       "      <td>S00009</td>\n",
       "      <td>Benjamin Cook</td>\n",
       "      <td>2007-10-04</td>\n",
       "      <td>Grade 4</td>\n",
       "      <td>503-751-1611</td>\n",
       "    </tr>\n",
       "    <tr>\n",
       "      <th>9</th>\n",
       "      <td>S00010</td>\n",
       "      <td>Aaron Callahan</td>\n",
       "      <td>2012-02-18</td>\n",
       "      <td>Grade 4</td>\n",
       "      <td>NaN</td>\n",
       "    </tr>\n",
       "    <tr>\n",
       "      <th>10</th>\n",
       "      <td>S00011</td>\n",
       "      <td>christopher church</td>\n",
       "      <td>2008-02-23</td>\n",
       "      <td>Grade 1</td>\n",
       "      <td>NaN</td>\n",
       "    </tr>\n",
       "    <tr>\n",
       "      <th>11</th>\n",
       "      <td>S00012</td>\n",
       "      <td>Jonathan Solis</td>\n",
       "      <td>2016-07-07</td>\n",
       "      <td>Grade 1</td>\n",
       "      <td>534-789-8656</td>\n",
       "    </tr>\n",
       "    <tr>\n",
       "      <th>12</th>\n",
       "      <td>S00013</td>\n",
       "      <td>Robert Sanders</td>\n",
       "      <td>2008-04-30</td>\n",
       "      <td>Grade 2</td>\n",
       "      <td>421-016-7779</td>\n",
       "    </tr>\n",
       "    <tr>\n",
       "      <th>13</th>\n",
       "      <td>S00014</td>\n",
       "      <td>Melanie Gilmore</td>\n",
       "      <td>2006-08-19</td>\n",
       "      <td>Grade 4</td>\n",
       "      <td>428-327-8506</td>\n",
       "    </tr>\n",
       "    <tr>\n",
       "      <th>14</th>\n",
       "      <td>S00015</td>\n",
       "      <td>Alexandria Wallace</td>\n",
       "      <td>2006-06-21</td>\n",
       "      <td>Grade 2</td>\n",
       "      <td>596-520-7061</td>\n",
       "    </tr>\n",
       "  </tbody>\n",
       "</table>\n",
       "</div>"
      ],
      "text/plain": [
       "   Student_ID           Full_Name Date_of_Birth Grade_Level Emergency_Contact\n",
       "0      S00001      Donna Williams    2007-02-10     Grade 3      344-258-9046\n",
       "1      S00002       John Stafford    2014-11-26     Grade 5      162-919-9704\n",
       "2      S00003         Chad Harper    2017-02-07     Grade 3      308-517-3750\n",
       "3      S00004      Anthony Martin    2014-11-10     Grade 5      771-152-4116\n",
       "4      S00005          Mary Stone    2016-04-01     Grade 3      848-495-7772\n",
       "5      S00006           Joe Wells    2017-06-29     Grade 2      864-564-4501\n",
       "6      S00007      Margaret Nixon    2009-12-04     Grade 4      708-042-1412\n",
       "7      S00008       James Wheeler    2011-01-25     Grade 1      818-005-7877\n",
       "8      S00009       Benjamin Cook    2007-10-04     Grade 4      503-751-1611\n",
       "9      S00010      Aaron Callahan    2012-02-18     Grade 4               NaN\n",
       "10     S00011  christopher church    2008-02-23     Grade 1               NaN\n",
       "11     S00012      Jonathan Solis    2016-07-07     Grade 1      534-789-8656\n",
       "12     S00013      Robert Sanders    2008-04-30     Grade 2      421-016-7779\n",
       "13     S00014     Melanie Gilmore    2006-08-19     Grade 4      428-327-8506\n",
       "14     S00015  Alexandria Wallace    2006-06-21     Grade 2      596-520-7061"
      ]
     },
     "execution_count": 53,
     "metadata": {},
     "output_type": "execute_result"
    }
   ],
   "source": [
    "df_students.head(15)"
   ]
  },
  {
   "cell_type": "code",
   "execution_count": 55,
   "id": "212af998-3e9b-4449-bb52-9826c9edc04c",
   "metadata": {},
   "outputs": [
    {
     "data": {
      "text/html": [
       "<div>\n",
       "<style scoped>\n",
       "    .dataframe tbody tr th:only-of-type {\n",
       "        vertical-align: middle;\n",
       "    }\n",
       "\n",
       "    .dataframe tbody tr th {\n",
       "        vertical-align: top;\n",
       "    }\n",
       "\n",
       "    .dataframe thead th {\n",
       "        text-align: right;\n",
       "    }\n",
       "</style>\n",
       "<table border=\"1\" class=\"dataframe\">\n",
       "  <thead>\n",
       "    <tr style=\"text-align: right;\">\n",
       "      <th></th>\n",
       "      <th>Student_ID</th>\n",
       "      <th>Full_Name</th>\n",
       "      <th>Date_of_Birth</th>\n",
       "      <th>Grade_Level</th>\n",
       "      <th>Emergency_Contact</th>\n",
       "    </tr>\n",
       "  </thead>\n",
       "  <tbody>\n",
       "    <tr>\n",
       "      <th>0</th>\n",
       "      <td>S00001</td>\n",
       "      <td>Donna Williams</td>\n",
       "      <td>2007-02-10</td>\n",
       "      <td>Grade 3</td>\n",
       "      <td>344-258-9046</td>\n",
       "    </tr>\n",
       "    <tr>\n",
       "      <th>1</th>\n",
       "      <td>S00002</td>\n",
       "      <td>John Stafford</td>\n",
       "      <td>2014-11-26</td>\n",
       "      <td>Grade 5</td>\n",
       "      <td>162-919-9704</td>\n",
       "    </tr>\n",
       "    <tr>\n",
       "      <th>2</th>\n",
       "      <td>S00003</td>\n",
       "      <td>Chad Harper</td>\n",
       "      <td>2017-02-07</td>\n",
       "      <td>Grade 3</td>\n",
       "      <td>308-517-3750</td>\n",
       "    </tr>\n",
       "    <tr>\n",
       "      <th>3</th>\n",
       "      <td>S00004</td>\n",
       "      <td>Anthony Martin</td>\n",
       "      <td>2014-11-10</td>\n",
       "      <td>Grade 5</td>\n",
       "      <td>771-152-4116</td>\n",
       "    </tr>\n",
       "    <tr>\n",
       "      <th>4</th>\n",
       "      <td>S00005</td>\n",
       "      <td>Mary Stone</td>\n",
       "      <td>2016-04-01</td>\n",
       "      <td>Grade 3</td>\n",
       "      <td>848-495-7772</td>\n",
       "    </tr>\n",
       "    <tr>\n",
       "      <th>5</th>\n",
       "      <td>S00006</td>\n",
       "      <td>Joe Wells</td>\n",
       "      <td>2017-06-29</td>\n",
       "      <td>Grade 2</td>\n",
       "      <td>864-564-4501</td>\n",
       "    </tr>\n",
       "    <tr>\n",
       "      <th>6</th>\n",
       "      <td>S00007</td>\n",
       "      <td>Margaret Nixon</td>\n",
       "      <td>2009-12-04</td>\n",
       "      <td>Grade 4</td>\n",
       "      <td>708-042-1412</td>\n",
       "    </tr>\n",
       "    <tr>\n",
       "      <th>7</th>\n",
       "      <td>S00008</td>\n",
       "      <td>James Wheeler</td>\n",
       "      <td>2011-01-25</td>\n",
       "      <td>Grade 1</td>\n",
       "      <td>818-005-7877</td>\n",
       "    </tr>\n",
       "    <tr>\n",
       "      <th>8</th>\n",
       "      <td>S00009</td>\n",
       "      <td>Benjamin Cook</td>\n",
       "      <td>2007-10-04</td>\n",
       "      <td>Grade 4</td>\n",
       "      <td>503-751-1611</td>\n",
       "    </tr>\n",
       "    <tr>\n",
       "      <th>9</th>\n",
       "      <td>S00010</td>\n",
       "      <td>Aaron Callahan</td>\n",
       "      <td>2012-02-18</td>\n",
       "      <td>Grade 4</td>\n",
       "      <td>unknown</td>\n",
       "    </tr>\n",
       "    <tr>\n",
       "      <th>10</th>\n",
       "      <td>S00011</td>\n",
       "      <td>christopher church</td>\n",
       "      <td>2008-02-23</td>\n",
       "      <td>Grade 1</td>\n",
       "      <td>unknown</td>\n",
       "    </tr>\n",
       "    <tr>\n",
       "      <th>11</th>\n",
       "      <td>S00012</td>\n",
       "      <td>Jonathan Solis</td>\n",
       "      <td>2016-07-07</td>\n",
       "      <td>Grade 1</td>\n",
       "      <td>534-789-8656</td>\n",
       "    </tr>\n",
       "    <tr>\n",
       "      <th>12</th>\n",
       "      <td>S00013</td>\n",
       "      <td>Robert Sanders</td>\n",
       "      <td>2008-04-30</td>\n",
       "      <td>Grade 2</td>\n",
       "      <td>421-016-7779</td>\n",
       "    </tr>\n",
       "    <tr>\n",
       "      <th>13</th>\n",
       "      <td>S00014</td>\n",
       "      <td>Melanie Gilmore</td>\n",
       "      <td>2006-08-19</td>\n",
       "      <td>Grade 4</td>\n",
       "      <td>428-327-8506</td>\n",
       "    </tr>\n",
       "    <tr>\n",
       "      <th>14</th>\n",
       "      <td>S00015</td>\n",
       "      <td>Alexandria Wallace</td>\n",
       "      <td>2006-06-21</td>\n",
       "      <td>Grade 2</td>\n",
       "      <td>596-520-7061</td>\n",
       "    </tr>\n",
       "  </tbody>\n",
       "</table>\n",
       "</div>"
      ],
      "text/plain": [
       "   Student_ID           Full_Name Date_of_Birth Grade_Level Emergency_Contact\n",
       "0      S00001      Donna Williams    2007-02-10     Grade 3      344-258-9046\n",
       "1      S00002       John Stafford    2014-11-26     Grade 5      162-919-9704\n",
       "2      S00003         Chad Harper    2017-02-07     Grade 3      308-517-3750\n",
       "3      S00004      Anthony Martin    2014-11-10     Grade 5      771-152-4116\n",
       "4      S00005          Mary Stone    2016-04-01     Grade 3      848-495-7772\n",
       "5      S00006           Joe Wells    2017-06-29     Grade 2      864-564-4501\n",
       "6      S00007      Margaret Nixon    2009-12-04     Grade 4      708-042-1412\n",
       "7      S00008       James Wheeler    2011-01-25     Grade 1      818-005-7877\n",
       "8      S00009       Benjamin Cook    2007-10-04     Grade 4      503-751-1611\n",
       "9      S00010      Aaron Callahan    2012-02-18     Grade 4           unknown\n",
       "10     S00011  christopher church    2008-02-23     Grade 1           unknown\n",
       "11     S00012      Jonathan Solis    2016-07-07     Grade 1      534-789-8656\n",
       "12     S00013      Robert Sanders    2008-04-30     Grade 2      421-016-7779\n",
       "13     S00014     Melanie Gilmore    2006-08-19     Grade 4      428-327-8506\n",
       "14     S00015  Alexandria Wallace    2006-06-21     Grade 2      596-520-7061"
      ]
     },
     "execution_count": 55,
     "metadata": {},
     "output_type": "execute_result"
    }
   ],
   "source": [
    "df_students['Emergency_Contact'] = df_students['Emergency_Contact'].fillna('unknown')\n",
    "df_students.head(15)"
   ]
  },
  {
   "cell_type": "code",
   "execution_count": 58,
   "id": "9ab8388d-fae6-49b2-9247-c6c238ad67bf",
   "metadata": {},
   "outputs": [
    {
     "data": {
      "text/plain": [
       "np.int64(618)"
      ]
     },
     "execution_count": 58,
     "metadata": {},
     "output_type": "execute_result"
    }
   ],
   "source": [
    "df_students['Emergency_Contact'].value_counts()['unknown']"
   ]
  },
  {
   "cell_type": "code",
   "execution_count": 56,
   "id": "886b098b-b21e-465e-b43a-1f263fb6d204",
   "metadata": {},
   "outputs": [
    {
     "data": {
      "text/plain": [
       "Student_ID           0\n",
       "Full_Name            0\n",
       "Date_of_Birth        0\n",
       "Grade_Level          0\n",
       "Emergency_Contact    0\n",
       "dtype: int64"
      ]
     },
     "execution_count": 56,
     "metadata": {},
     "output_type": "execute_result"
    }
   ],
   "source": [
    "df_students.isna().sum()"
   ]
  },
  {
   "cell_type": "code",
   "execution_count": 57,
   "id": "d0f576fa-2303-4031-9fe5-0b5dc704d0df",
   "metadata": {},
   "outputs": [
    {
     "data": {
      "text/plain": [
       "np.int64(0)"
      ]
     },
     "execution_count": 57,
     "metadata": {},
     "output_type": "execute_result"
    }
   ],
   "source": [
    "df_students.duplicated().sum()"
   ]
  },
  {
   "cell_type": "code",
   "execution_count": 59,
   "id": "066b57bb-3673-4e16-a552-00613af0e1ad",
   "metadata": {},
   "outputs": [
    {
     "name": "stdout",
     "output_type": "stream",
     "text": [
      "<class 'pandas.core.frame.DataFrame'>\n",
      "RangeIndex: 12156 entries, 0 to 12155\n",
      "Data columns (total 5 columns):\n",
      " #   Column             Non-Null Count  Dtype \n",
      "---  ------             --------------  ----- \n",
      " 0   Student_ID         12156 non-null  object\n",
      " 1   Full_Name          12156 non-null  object\n",
      " 2   Date_of_Birth      12156 non-null  object\n",
      " 3   Grade_Level        12156 non-null  object\n",
      " 4   Emergency_Contact  12156 non-null  object\n",
      "dtypes: object(5)\n",
      "memory usage: 475.0+ KB\n"
     ]
    }
   ],
   "source": [
    "df_students.info()"
   ]
  },
  {
   "cell_type": "markdown",
   "id": "5df66dde-8e38-44f5-80d9-c5b8cfe2e94c",
   "metadata": {},
   "source": [
    "## Parent Teacher Communication EDA"
   ]
  },
  {
   "cell_type": "code",
   "execution_count": 60,
   "id": "7b92f3db-2150-4241-b2b2-8ec770826995",
   "metadata": {},
   "outputs": [
    {
     "data": {
      "text/html": [
       "<div>\n",
       "<style scoped>\n",
       "    .dataframe tbody tr th:only-of-type {\n",
       "        vertical-align: middle;\n",
       "    }\n",
       "\n",
       "    .dataframe tbody tr th {\n",
       "        vertical-align: top;\n",
       "    }\n",
       "\n",
       "    .dataframe thead th {\n",
       "        text-align: right;\n",
       "    }\n",
       "</style>\n",
       "<table border=\"1\" class=\"dataframe\">\n",
       "  <thead>\n",
       "    <tr style=\"text-align: right;\">\n",
       "      <th></th>\n",
       "      <th>Student_ID</th>\n",
       "      <th>Date</th>\n",
       "      <th>Message_Type</th>\n",
       "      <th>Message_Content</th>\n",
       "    </tr>\n",
       "  </thead>\n",
       "  <tbody>\n",
       "    <tr>\n",
       "      <th>11666</th>\n",
       "      <td>S00001</td>\n",
       "      <td>2024-12-06</td>\n",
       "      <td>Parent to Teacher</td>\n",
       "      <td>Almost herself sound service whole single gene...</td>\n",
       "    </tr>\n",
       "    <tr>\n",
       "      <th>15536</th>\n",
       "      <td>S00001</td>\n",
       "      <td>2024-11-28</td>\n",
       "      <td>Teacher to Parent</td>\n",
       "      <td>At month her remain listen thank million artic...</td>\n",
       "    </tr>\n",
       "    <tr>\n",
       "      <th>12650</th>\n",
       "      <td>S00001</td>\n",
       "      <td>2024-10-24</td>\n",
       "      <td>Automated Reminder</td>\n",
       "      <td>Institution most apply conference east trade i...</td>\n",
       "    </tr>\n",
       "    <tr>\n",
       "      <th>14516</th>\n",
       "      <td>S00002</td>\n",
       "      <td>2024-12-19</td>\n",
       "      <td>Automated Reminder</td>\n",
       "      <td>Federal south issue treat amount interesting o...</td>\n",
       "    </tr>\n",
       "    <tr>\n",
       "      <th>17043</th>\n",
       "      <td>S00002</td>\n",
       "      <td>2025-02-16</td>\n",
       "      <td>Teacher to Parent</td>\n",
       "      <td>Over model consider event say make wall not ma...</td>\n",
       "    </tr>\n",
       "    <tr>\n",
       "      <th>4285</th>\n",
       "      <td>S00002</td>\n",
       "      <td>2024-12-24</td>\n",
       "      <td>Teacher to Parent</td>\n",
       "      <td>Everyone require pretty decade accept wear mem...</td>\n",
       "    </tr>\n",
       "    <tr>\n",
       "      <th>11505</th>\n",
       "      <td>S00002</td>\n",
       "      <td>2025-03-05</td>\n",
       "      <td>Parent to Teacher</td>\n",
       "      <td>Improve candidate benefit kind item federal ot...</td>\n",
       "    </tr>\n",
       "    <tr>\n",
       "      <th>4173</th>\n",
       "      <td>S00004</td>\n",
       "      <td>2024-09-28</td>\n",
       "      <td>Parent to Teacher</td>\n",
       "      <td>Professor husband offer type fund join on beat...</td>\n",
       "    </tr>\n",
       "    <tr>\n",
       "      <th>214</th>\n",
       "      <td>S00004</td>\n",
       "      <td>2025-03-05</td>\n",
       "      <td>Automated Reminder</td>\n",
       "      <td>Air look for son mouth instead age sport vario...</td>\n",
       "    </tr>\n",
       "    <tr>\n",
       "      <th>14897</th>\n",
       "      <td>S00004</td>\n",
       "      <td>2025-02-15</td>\n",
       "      <td>Parent to Teacher</td>\n",
       "      <td>Low happen event white stay hospital onto read...</td>\n",
       "    </tr>\n",
       "  </tbody>\n",
       "</table>\n",
       "</div>"
      ],
      "text/plain": [
       "      Student_ID        Date        Message_Type  \\\n",
       "11666     S00001  2024-12-06   Parent to Teacher   \n",
       "15536     S00001  2024-11-28   Teacher to Parent   \n",
       "12650     S00001  2024-10-24  Automated Reminder   \n",
       "14516     S00002  2024-12-19  Automated Reminder   \n",
       "17043     S00002  2025-02-16   Teacher to Parent   \n",
       "4285      S00002  2024-12-24   Teacher to Parent   \n",
       "11505     S00002  2025-03-05   Parent to Teacher   \n",
       "4173      S00004  2024-09-28   Parent to Teacher   \n",
       "214       S00004  2025-03-05  Automated Reminder   \n",
       "14897     S00004  2025-02-15   Parent to Teacher   \n",
       "\n",
       "                                         Message_Content  \n",
       "11666  Almost herself sound service whole single gene...  \n",
       "15536  At month her remain listen thank million artic...  \n",
       "12650  Institution most apply conference east trade i...  \n",
       "14516  Federal south issue treat amount interesting o...  \n",
       "17043  Over model consider event say make wall not ma...  \n",
       "4285   Everyone require pretty decade accept wear mem...  \n",
       "11505  Improve candidate benefit kind item federal ot...  \n",
       "4173   Professor husband offer type fund join on beat...  \n",
       "214    Air look for son mouth instead age sport vario...  \n",
       "14897  Low happen event white stay hospital onto read...  "
      ]
     },
     "execution_count": 60,
     "metadata": {},
     "output_type": "execute_result"
    }
   ],
   "source": [
    "df_communication.sort_values('Student_ID', ascending = True, inplace = True)\n",
    "df_communication.head(10)"
   ]
  },
  {
   "cell_type": "code",
   "execution_count": 71,
   "id": "4a78b3ce-101c-4d83-ac45-6b3c685bf619",
   "metadata": {},
   "outputs": [
    {
     "name": "stdout",
     "output_type": "stream",
     "text": [
      "<class 'pandas.core.frame.DataFrame'>\n",
      "Index: 24312 entries, 11666 to 12796\n",
      "Data columns (total 4 columns):\n",
      " #   Column           Non-Null Count  Dtype \n",
      "---  ------           --------------  ----- \n",
      " 0   Student_ID       24312 non-null  object\n",
      " 1   Date             24312 non-null  object\n",
      " 2   Message_Type     24312 non-null  object\n",
      " 3   Message_Content  24312 non-null  object\n",
      "dtypes: object(4)\n",
      "memory usage: 949.7+ KB\n"
     ]
    }
   ],
   "source": [
    "df_communication.info()"
   ]
  },
  {
   "cell_type": "code",
   "execution_count": 72,
   "id": "f5823bb1-183a-4f6b-8e2f-6d4f8918a27e",
   "metadata": {},
   "outputs": [
    {
     "data": {
      "text/html": [
       "<div>\n",
       "<style scoped>\n",
       "    .dataframe tbody tr th:only-of-type {\n",
       "        vertical-align: middle;\n",
       "    }\n",
       "\n",
       "    .dataframe tbody tr th {\n",
       "        vertical-align: top;\n",
       "    }\n",
       "\n",
       "    .dataframe thead th {\n",
       "        text-align: right;\n",
       "    }\n",
       "</style>\n",
       "<table border=\"1\" class=\"dataframe\">\n",
       "  <thead>\n",
       "    <tr style=\"text-align: right;\">\n",
       "      <th></th>\n",
       "      <th>Student_ID</th>\n",
       "      <th>Date</th>\n",
       "      <th>Message_Type</th>\n",
       "      <th>Message_Content</th>\n",
       "    </tr>\n",
       "  </thead>\n",
       "  <tbody>\n",
       "  </tbody>\n",
       "</table>\n",
       "</div>"
      ],
      "text/plain": [
       "Empty DataFrame\n",
       "Columns: [Student_ID, Date, Message_Type, Message_Content]\n",
       "Index: []"
      ]
     },
     "execution_count": 72,
     "metadata": {},
     "output_type": "execute_result"
    }
   ],
   "source": [
    "df_communication['Student_ID'] = df_communication['Student_ID'].str.strip()\n",
    "bad_rows = df_communication[~df_communication['Student_ID'].str.match(r'^S\\d{5}$')]\n",
    "bad_rows"
   ]
  },
  {
   "cell_type": "code",
   "execution_count": 69,
   "id": "f102cc8f-2bd1-4e0d-a5ae-7d265eba26ba",
   "metadata": {},
   "outputs": [
    {
     "data": {
      "text/html": [
       "<div>\n",
       "<style scoped>\n",
       "    .dataframe tbody tr th:only-of-type {\n",
       "        vertical-align: middle;\n",
       "    }\n",
       "\n",
       "    .dataframe tbody tr th {\n",
       "        vertical-align: top;\n",
       "    }\n",
       "\n",
       "    .dataframe thead th {\n",
       "        text-align: right;\n",
       "    }\n",
       "</style>\n",
       "<table border=\"1\" class=\"dataframe\">\n",
       "  <thead>\n",
       "    <tr style=\"text-align: right;\">\n",
       "      <th></th>\n",
       "      <th>Student_ID</th>\n",
       "      <th>Date</th>\n",
       "      <th>Message_Type</th>\n",
       "      <th>Message_Content</th>\n",
       "    </tr>\n",
       "  </thead>\n",
       "  <tbody>\n",
       "  </tbody>\n",
       "</table>\n",
       "</div>"
      ],
      "text/plain": [
       "Empty DataFrame\n",
       "Columns: [Student_ID, Date, Message_Type, Message_Content]\n",
       "Index: []"
      ]
     },
     "execution_count": 69,
     "metadata": {},
     "output_type": "execute_result"
    }
   ],
   "source": [
    "df_communication['Date'] = df_communication['Date'].str.strip()\n",
    "bad_rows = df_communication[~df_communication['Date'].str.match(r'^\\d{4}-\\d{2}-\\d{2}')]\n",
    "bad_rows"
   ]
  },
  {
   "cell_type": "code",
   "execution_count": 70,
   "id": "433cce50-2033-436f-a0d4-aca03f2eda53",
   "metadata": {},
   "outputs": [
    {
     "data": {
      "text/plain": [
       "Message_Type\n",
       "Teacher to Parent     8149\n",
       "Automated Reminder    8106\n",
       "Parent to Teacher     8057\n",
       "Name: count, dtype: int64"
      ]
     },
     "execution_count": 70,
     "metadata": {},
     "output_type": "execute_result"
    }
   ],
   "source": [
    "df_communication['Message_Type'].value_counts()"
   ]
  },
  {
   "cell_type": "code",
   "execution_count": 74,
   "id": "314800f1-dfb4-458c-a4eb-6aea634bc11d",
   "metadata": {},
   "outputs": [
    {
     "data": {
      "text/plain": [
       "Student_ID         0\n",
       "Date               0\n",
       "Message_Type       0\n",
       "Message_Content    0\n",
       "dtype: int64"
      ]
     },
     "execution_count": 74,
     "metadata": {},
     "output_type": "execute_result"
    }
   ],
   "source": [
    "df_communication.isna().sum()"
   ]
  },
  {
   "cell_type": "code",
   "execution_count": 75,
   "id": "66566dcf-a964-4887-96a1-509502f0a6c7",
   "metadata": {},
   "outputs": [
    {
     "data": {
      "text/plain": [
       "np.int64(0)"
      ]
     },
     "execution_count": 75,
     "metadata": {},
     "output_type": "execute_result"
    }
   ],
   "source": [
    "df_communication.duplicated().sum()"
   ]
  },
  {
   "cell_type": "markdown",
   "id": "f2384b30-c4cf-4b74-9c85-82574f6eee74",
   "metadata": {},
   "source": [
    "## Converting cleaned dataframes to csv files"
   ]
  },
  {
   "cell_type": "code",
   "execution_count": 84,
   "id": "6f4e3840-0071-4394-a28f-fe463ba30e1d",
   "metadata": {},
   "outputs": [],
   "source": [
    "df_attendance.to_csv('attendance_cleaned.csv', index = False)\n",
    "df_homework.to_csv('homework_cleaned.csv', index = False)\n",
    "df_performance.to_csv('performance_cleaned.csv', index = False)\n",
    "df_students.to_csv('students_cleaned.csv', index = False)\n",
    "df_communication.to_csv('teacher_parent_communication_cleaned.csv', index = False)"
   ]
  },
  {
   "cell_type": "code",
   "execution_count": null,
   "id": "738be3d9-a867-41b0-8c1f-bfbcbcfee851",
   "metadata": {},
   "outputs": [],
   "source": []
  }
 ],
 "metadata": {
  "kernelspec": {
   "display_name": "Python 3 (ipykernel)",
   "language": "python",
   "name": "python3"
  },
  "language_info": {
   "codemirror_mode": {
    "name": "ipython",
    "version": 3
   },
   "file_extension": ".py",
   "mimetype": "text/x-python",
   "name": "python",
   "nbconvert_exporter": "python",
   "pygments_lexer": "ipython3",
   "version": "3.13.5"
  }
 },
 "nbformat": 4,
 "nbformat_minor": 5
}
